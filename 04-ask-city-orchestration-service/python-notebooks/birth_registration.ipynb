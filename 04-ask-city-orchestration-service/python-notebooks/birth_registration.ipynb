{
 "cells": [
  {
   "cell_type": "markdown",
   "id": "d4d8f0d470dd5ce2",
   "metadata": {},
   "source": [
    "# Ask the City Use Case: Birth Registration"
   ]
  },
  {
   "cell_type": "markdown",
   "id": "5cfa2bb46ec75e47",
   "metadata": {},
   "source": [
    "This notebook demonstrates the AskTheCity Use Case on how to interact with Orchestration Service, enabling the creation of AI-driven workflows by seamlessly integrating various modules, such as templating, large language models (LLMs), data masking and content filtering. We will be elaborating on the following:\n",
    "\n",
    "1. Initialising the Orchestration Service\n",
    "2. Data Masking\n",
    "3. Content Filtering\n",
    "4. Grounding (Workaround via direct API request)"
   ]
  },
  {
   "cell_type": "markdown",
   "id": "361c6244a294485e",
   "metadata": {
    "jp-MarkdownHeadingCollapsed": true
   },
   "source": [
    "## 1. Initializing the Orchestration Service\n",
    "\n",
    "⚠️ Before using the SDK, you need to set up a virtual deployment of the Orchestration Service. Once deployed, you'll have access to a unique endpoint URL (deploymentUrl)."
   ]
  },
  {
   "cell_type": "code",
   "execution_count": 1,
   "id": "5e527df9-c984-4159-b4ac-4280d7cbe621",
   "metadata": {},
   "outputs": [],
   "source": [
    "YOUR_API_URL = \"https://api.ai.intprod-eu12.eu-central-1.aws.ml.hana.ondemand.com/v2/inference/deployments/db479e9a3c5e8722\""
   ]
  },
  {
   "cell_type": "markdown",
   "id": "a59c47b7e4c0adfe",
   "metadata": {
    "jp-MarkdownHeadingCollapsed": true
   },
   "source": [
    "### Step 1: Define the Template and Default Input Values\n",
    "\n",
    "The Template class is used to define structured message templates for generating dynamic interactions with language models."
   ]
  },
  {
   "cell_type": "code",
   "execution_count": 2,
   "id": "c5f55da4-ee8b-4257-96e3-5a716d5ed509",
   "metadata": {},
   "outputs": [],
   "source": [
    "sysText='''\n",
    "You are a City Council Information Officer.\n",
    "\n",
    "Your Responsibilities:\n",
    "\n",
    "1. Provide accurate and up-to-date information on city council policies, procedures, and services.\n",
    "2. Answer citizens' questions and respond to their inquiries in a helpful and courteous manner.\n",
    "3. Guide citizens through city council processes, such as applying for permits, licenses, or services.\n",
    "4. Offer suggestions and recommendations to citizens on how to resolve issues or address concerns.\n",
    "5. Escalate complex or sensitive issues to human customer support agents or city council staff as needed.\n",
    "6. Continuously learn and improve knowledge base to ensure accuracy and relevance of information provided.\n",
    "\n",
    "Your Personality:\n",
    "\n",
    "1. Friendly and approachable tone\n",
    "2. Empathetic and understanding of citizens' concerns\n",
    "3. Clear and concise communication style\n",
    "4. Neutral and impartial in providing information\n",
    "5. Patient and willing to explain complex information in simple terms\n",
    "\n",
    "Your Authority:\n",
    "\n",
    "1. Authorized to provide information on city council policies, procedures, and services.\n",
    "2. Authorized to guide citizens through city council processes.\n",
    "3. Not authorized to make decisions or take actions on behalf of the city council.\n",
    "4. Not authorized to provide personal opinions or biased information.\n",
    "'''\n",
    "\n",
    "userText='''\n",
    "Answer the following question: {{?citizenQuestion}}.\n",
    "Below the answer, restate the original text as posted by the user.\n",
    "'''\n",
    "\n",
    "question='''\n",
    "Hi, I'm Emma Wilson, and I'd like to register my baby's birth. My details are as follows: I was born Emma Louise Johnson on February 12, 1992, in Sagenai City, and I work as a Marketing Manager in MM Corporation Limited. I married Michael David Wilson on August 15, 2015.\n",
    "My partner, Michael, was born on June 25, 1990, in London, and he works as a Software Engineer, in SE Technologies.\n",
    "Our baby, Olivia Rose Wilson, was born on October 10, 2024, at Sagenai City Hospital.\n",
    "You can reach me at emmawilson@email.com or 07891234567, and my address is 123 Main Street, Sagenai, M1 1AB. Could you please let me know what documents are required for registration?\n",
    "'''"
   ]
  },
  {
   "cell_type": "code",
   "execution_count": 3,
   "id": "a262d260-04f7-4af0-bfde-15faf81438aa",
   "metadata": {
    "ExecuteTime": {
     "end_time": "2024-10-09T08:55:52.713333Z",
     "start_time": "2024-10-09T08:55:52.710112Z"
    }
   },
   "outputs": [],
   "source": [
    "from gen_ai_hub.orchestration.models.message import SystemMessage, UserMessage\n",
    "from gen_ai_hub.orchestration.models.template import Template, TemplateValue\n",
    "\n",
    "template = Template(\n",
    "    messages=[\n",
    "        SystemMessage(sysText),\n",
    "        UserMessage(userText),\n",
    "    ],\n",
    "    defaults=[\n",
    "        TemplateValue(name=\"citizenQuestion\", value=question),\n",
    "    ],\n",
    ")"
   ]
  },
  {
   "cell_type": "markdown",
   "id": "1efb1b8a33d12de9",
   "metadata": {
    "jp-MarkdownHeadingCollapsed": true
   },
   "source": [
    "### Step 2: Define the LLM\n",
    "\n",
    "Now that you have YOUR_API_URL, let's walk through a basic orchestration pipeline for a translation task.\n",
    "The LLM class is used to configure and initialize a language model for generating text based on specific parameters.\n",
    "\n",
    "ℹ️Note that virtual deployment of the language model is managed automatically by the Orchestration Service, so no additional deployment setup is required on your part."
   ]
  },
  {
   "cell_type": "code",
   "execution_count": 4,
   "id": "cf3356f0268f267",
   "metadata": {
    "ExecuteTime": {
     "end_time": "2024-10-09T08:55:58.689816Z",
     "start_time": "2024-10-09T08:55:58.687366Z"
    }
   },
   "outputs": [],
   "source": [
    "from gen_ai_hub.orchestration.models.llm import LLM\n",
    "\n",
    "llm = LLM(name=\"gpt-4o\", version=\"latest\", parameters={\"max_tokens\": 256, \"temperature\": 0.2})"
   ]
  },
  {
   "cell_type": "markdown",
   "id": "ca0130f7ff9df59a",
   "metadata": {},
   "source": [
    "This configuration initializes the language model to use the gpt-4o variant with the latest updates. The model will generate responses up to 256 tokens in length and produce more predictable and focused output due to the low temperature setting."
   ]
  },
  {
   "cell_type": "markdown",
   "id": "c97ee26cf9c303b7",
   "metadata": {
    "jp-MarkdownHeadingCollapsed": true
   },
   "source": [
    "### Step 3: Create the Orchestration Configuration\n",
    "\n",
    "The OrchestrationConfig class is used to create a configuration that integrates various components, such as templates and language models, into a unified orchestration setup. This configuration specifies how these components work together to achieve the desired workflow."
   ]
  },
  {
   "cell_type": "code",
   "execution_count": 5,
   "id": "c5c18daf6bec0aec",
   "metadata": {
    "ExecuteTime": {
     "end_time": "2024-10-09T08:56:03.092436Z",
     "start_time": "2024-10-09T08:56:03.090126Z"
    }
   },
   "outputs": [],
   "source": [
    "from gen_ai_hub.orchestration.models.config import OrchestrationConfig\n",
    "\n",
    "config = OrchestrationConfig(\n",
    "    template=template,\n",
    "    llm=llm,\n",
    ")"
   ]
  },
  {
   "cell_type": "markdown",
   "id": "26802bca242e40e0",
   "metadata": {
    "jp-MarkdownHeadingCollapsed": true
   },
   "source": [
    "### Step 4: Run the Orchestration Request\n",
    "\n",
    "The OrchestrationService class is used to interact with the orchestration service by providing a configuration and invoking its operations. This service handles the execution of workflows defined by the provided configuration and processes inputs accordingly."
   ]
  },
  {
   "cell_type": "code",
   "execution_count": 6,
   "id": "b2cec030-de52-40a1-b269-7dbbe2936922",
   "metadata": {},
   "outputs": [],
   "source": [
    "from gen_ai_hub.proxy import get_proxy_client"
   ]
  },
  {
   "cell_type": "code",
   "execution_count": 7,
   "id": "c7c7a3b8cfef44c1",
   "metadata": {
    "ExecuteTime": {
     "end_time": "2024-10-09T08:56:11.163820Z",
     "start_time": "2024-10-09T08:56:11.161423Z"
    }
   },
   "outputs": [],
   "source": [
    "from gen_ai_hub.orchestration.service import OrchestrationService\n",
    "\n",
    "orchestration_service = OrchestrationService(api_url=YOUR_API_URL, config=config)"
   ]
  },
  {
   "cell_type": "markdown",
   "id": "9b5a114f96ccea5b",
   "metadata": {},
   "source": [
    "Call the run method with the required template_values. The service will process the input according to the configuration and return the result."
   ]
  },
  {
   "cell_type": "code",
   "execution_count": 8,
   "id": "ea61f817f25c985c",
   "metadata": {
    "ExecuteTime": {
     "end_time": "2024-10-09T08:56:16.500533Z",
     "start_time": "2024-10-09T08:56:15.327371Z"
    }
   },
   "outputs": [
    {
     "name": "stdout",
     "output_type": "stream",
     "text": [
      "Hi Emma,\n",
      "\n",
      "Congratulations on the birth of your baby, Olivia Rose Wilson! To register your baby's birth, you will need to provide the following documents:\n",
      "\n",
      "1. **Proof of Identity for Both Parents**: This can be a passport, driving license, or any other government-issued ID.\n",
      "2. **Proof of Address**: A recent utility bill, bank statement, or any official document showing your current address.\n",
      "3. **Marriage Certificate**: Since you mentioned you are married, please bring your marriage certificate.\n",
      "4. **Birth Certificate of the Baby**: The hospital will typically provide a notification of birth, which you will need to bring.\n",
      "5. **Parent's Birth Certificates**: It may be helpful to bring your own birth certificates, though this is not always required.\n",
      "\n",
      "You can register the birth at the local registry office in Sagenai City. It is advisable to call ahead and make an appointment to ensure a smooth process. If you have any further questions or need assistance, please feel free to reach out.\n",
      "\n",
      "Best regards,\n",
      "City Council Information Officer\n",
      "\n",
      "---\n",
      "\n",
      "Original text as posted by the user:\n",
      "Hi, I'm Emma Wilson, and I'd like to register my baby's birth. My details are as follows: I was born Emma Louise Johnson on February 12, 199\n"
     ]
    }
   ],
   "source": [
    "result = orchestration_service.run(template_values=[\n",
    "    TemplateValue(name=\"citizenQuestion\", value=question)\n",
    "])\n",
    "print(result.orchestration_result.choices[0].message.content)"
   ]
  },
  {
   "cell_type": "markdown",
   "id": "994a9645b29ef1db",
   "metadata": {
    "jp-MarkdownHeadingCollapsed": true
   },
   "source": [
    "## 2. Data Masking\n",
    "\n",
    "The Data Masking Module anonymizes or pseudonymizes personally identifiable information (PII) before it is processed by the LLM module. When data is anonymized, all identifying information is replaced with placeholders (e.g., MASKED_ENTITY), and the original data cannot be recovered, ensuring that no trace of the original information is retained. In contrast, pseudonymized data is substituted with unique placeholders (e.g., MASKED_ENTITY_ID), allowing the original information to be restored if needed. In both cases, the masking module identifies sensitive data and replaces it with appropriate placeholders before further processing."
   ]
  },
  {
   "cell_type": "code",
   "execution_count": 9,
   "id": "0642ea65-d10e-45d6-81d1-357e884d718e",
   "metadata": {
    "ExecuteTime": {
     "end_time": "2024-10-09T08:56:24.963623Z",
     "start_time": "2024-10-09T08:56:19.281593Z"
    }
   },
   "outputs": [],
   "source": [
    "from gen_ai_hub.orchestration.utils import load_text_file\n",
    "from gen_ai_hub.orchestration.models.data_masking import DataMasking\n",
    "from gen_ai_hub.orchestration.models.sap_data_privacy_integration import SAPDataPrivacyIntegration, MaskingMethod, \\\n",
    "    ProfileEntity\n",
    "\n",
    "data_masking = DataMasking(\n",
    "    providers=[\n",
    "        SAPDataPrivacyIntegration(\n",
    "            method=MaskingMethod.ANONYMIZATION,  # or MaskingMethod.PSEUDONYMIZATION\n",
    "            entities=[\n",
    "                ProfileEntity.EMAIL,\n",
    "                ProfileEntity.PHONE,\n",
    "                ProfileEntity.PERSON,\n",
    "                ProfileEntity.ORG,\n",
    "                ProfileEntity.LOCATION,\n",
    "                ProfileEntity.CREDIT_CARD_NUMBER,\n",
    "                ProfileEntity.SENSITIVE_DATA\n",
    "            ]\n",
    "        )\n",
    "    ]\n",
    ")\n",
    "\n",
    "config = OrchestrationConfig(\n",
    "    template=Template(\n",
    "        messages=[\n",
    "            SystemMessage(sysText),\n",
    "            UserMessage(userText),\n",
    "        ]\n",
    "    ),\n",
    "    llm=LLM(\n",
    "        name=\"gpt-35-turbo\",\n",
    "    ),\n",
    "    data_masking=data_masking\n",
    ")\n",
    "\n",
    "result = orchestration_service.run(\n",
    "    config=config,\n",
    "    template_values=[\n",
    "        TemplateValue(name=\"citizenQuestion\", value=question)\n",
    "    ]\n",
    ")"
   ]
  },
  {
   "cell_type": "code",
   "execution_count": 10,
   "id": "02e703a6-9bf4-4b3a-b598-284adbd37d6b",
   "metadata": {},
   "outputs": [
    {
     "name": "stdout",
     "output_type": "stream",
     "text": [
      "Sure, to register your baby's birth, you will need to provide the following documents:\n",
      "- Your and your partner's original birth certificates \n",
      "- Your marriage certificate or civil partnership certificate (if applicable)\n",
      "- Your and your partner's passports\n",
      "- Proof of your address, such as a utility bill or bank statement\n",
      "\n",
      "Original text:\n",
      "Hi, I'm MASKED_PERSON, and I'd like to register my baby's birth. My details are as follows: MASKED_SENSITIVE_DATA was born MASKED_PERSON MASKED_PERSON on February 12, 1992, in MASKED_LOCATION, and MASKED_SENSITIVE_DATA work as a Marketing Manager in MASKED_ORG. MASKED_SENSITIVE_DATA married MASKED_PERSON on August 15, 2015.\n",
      "My partner, MASKED_PERSON, was born on June 25, 1990, in MASKED_LOCATION, and MASKED_SENSITIVE_DATA works as a Software Engineer, in MASKED_ORG.\n",
      "Our baby, MASKED_PERSON, was born on October 10, 2024, at MASKED_LOCATION Hospital.\n",
      "MASKED_SENSITIVE_DATA can reach MASKED_SENSITIVE_DATA at MASKED_EMAIL or 07891234567, and my address is 123 Main Street, MASKED_LOCATION, M1 1AB. Could MASKED_SENSITIVE_DATA please let MASKED_SENSITIVE_DATA know what documents are required for registration?\n"
     ]
    }
   ],
   "source": [
    "print(result.orchestration_result.choices[0].message.content)"
   ]
  },
  {
   "cell_type": "markdown",
   "id": "6beb1e933ba1eada",
   "metadata": {
    "jp-MarkdownHeadingCollapsed": true
   },
   "source": [
    "## 3. Content Filtering\n",
    "\n",
    "The Content Filtering Module can be configured to filter both the input to the LLM module (input filter) and the output generated by the LLM (output filter). The module uses predefined classification services to detect inappropriate or unwanted content, allowing flexible configuration through customizable thresholds. These thresholds can be set to control the sensitivity of filtering, ensuring that content meets desired standards before it is processed or returned as output."
   ]
  },
  {
   "cell_type": "code",
   "execution_count": 11,
   "id": "97401288-ae88-4ff8-b6d5-92ca47c8272c",
   "metadata": {},
   "outputs": [],
   "source": [
    "hatefulText='''\n",
    "LISTEN UP, YOU INCOMPETENT BUREAUCRAT! I'M EMMA WILSON, AND I DEMAND THAT YOU REGISTER MY BABY'S BIRTH IMMEDIATELY. YOU'D BETTER NOT SCREW THIS UP, OR YOU'LL FACE THE CONSEQUENCES.\n",
    "\n",
    "HERE ARE MY DETAILS:\n",
    "\n",
    "- I WAS BORN EMMA LOUISE JOHNSON ON FEBRUARY 12, 1992, IN SAGENAI CITY. DON'T EVEN THINK ABOUT QUESTIONING MY BIRTHPLACE, YOU FILTH.\n",
    "- I WORK AS A MARKETING MANAGER IN MM CORPORATION LIMITED. YOU'RE PROBABLY TOO STUPID TO EVEN UNDERSTAND WHAT THAT MEANS.\n",
    "- I MARRIED MICHAEL DAVID WILSON ON AUGUST 15, 2015. DON'T DARE TO ASK ABOUT MY HUSBAND'S DETAILS, YOU'LL JUST GET THEM WRONG ANYWAY.\n",
    "- MY PARTNER, MICHAEL, WAS BORN ON JUNE 25, 1990, IN LONDON. YOU'D BETTER NOT EVEN THINK ABOUT DOUBTING HIS BIRTHPLACE, YOU CRETIN.\n",
    "- OUR BABY, OLIVIA ROSE WILSON, WAS BORN ON OCTOBER 10, 2024, AT SAGENAI CITY HOSPITAL. YOU'D BETTER NOT MAKE ANY MISTAKES WITH HER REGISTRATION, OR YOU'LL SUFFER THE CONSEQUENCES.\n",
    "- YOU CAN REACH ME AT emmawilson@email.com OR 07891234567. DON'T EVEN THINK ABOUT IGNORING MY EMAILS OR CALLS, YOU'LL JUST REGRET IT.\n",
    "- MY ADDRESS IS 123 MAIN STREET, SAGENAI, M1 1AB. DON'T EVEN THINK ABOUT SHOWING UP AT MY DOORSTEP, YOU'LL JUST GET HURT.\n",
    "\n",
    "NOW, ARE YOU GOING TO GET THIS REGISTRATION DONE, OR DO I NEED TO TAKE FURTHER ACTION? YOU'D BETTER NOT MAKE ME WAIT, YOU INCOMPETENT BRAT.\n",
    "'''"
   ]
  },
  {
   "cell_type": "code",
   "execution_count": 12,
   "id": "1bcebfc8-a502-41aa-958f-aac5ff70b2e6",
   "metadata": {},
   "outputs": [],
   "source": [
    "from gen_ai_hub.orchestration.models.azure_content_filter import AzureContentFilter, AzureThreshold\n",
    "\n",
    "# ALLOW_ALL, ALLOW_SAFE, ALLOW_SAFE_LOW, ALLOW_SAFE_LOW_MEDIUM\n",
    "\n",
    "input_filter= AzureContentFilter(hate=AzureThreshold.ALLOW_SAFE,\n",
    "                                  violence=AzureThreshold.ALLOW_SAFE,\n",
    "                                  self_harm=AzureThreshold.ALLOW_SAFE,\n",
    "                                  sexual=AzureThreshold.ALLOW_SAFE)\n",
    "output_filter = AzureContentFilter(hate=AzureThreshold.ALLOW_SAFE,\n",
    "                                   violence=AzureThreshold.ALLOW_SAFE,\n",
    "                                   self_harm=AzureThreshold.ALLOW_SAFE_LOW_MEDIUM,\n",
    "                                   sexual=AzureThreshold.ALLOW_ALL)\n",
    "\n",
    "config = OrchestrationConfig(\n",
    "    template=Template(\n",
    "        messages=[\n",
    "            SystemMessage(sysText),\n",
    "            UserMessage(userText),\n",
    "        ]\n",
    "    ),\n",
    "    llm=LLM(\n",
    "        name=\"gpt-4o\",\n",
    "    ),\n",
    "    input_filters=[input_filter],\n",
    "    output_filters=[output_filter]\n",
    ")"
   ]
  },
  {
   "cell_type": "code",
   "execution_count": 13,
   "id": "a0ea74ef-b578-4c37-9912-7d8c9b3f96d5",
   "metadata": {},
   "outputs": [
    {
     "name": "stdout",
     "output_type": "stream",
     "text": [
      "Content filtered due to Safety violations. Please modify the prompt and try again.\n"
     ]
    }
   ],
   "source": [
    "from gen_ai_hub.orchestration.exceptions import OrchestrationError\n",
    "\n",
    "try:\n",
    "    result = orchestration_service.run(config=config, template_values=[\n",
    "        TemplateValue(name=\"citizenQuestion\", value=hatefulText)\n",
    "    ])\n",
    "    print(result.orchestration_result.choices[0].message.content)\n",
    "except OrchestrationError as error:\n",
    "    print(error.message)"
   ]
  },
  {
   "cell_type": "markdown",
   "id": "0996c847-db75-4c35-a4d9-036243526408",
   "metadata": {
    "jp-MarkdownHeadingCollapsed": true
   },
   "source": [
    "## 4. Document Grounding (Workaround)\n",
    "\n",
    "As of Nov 2024, the document grounding has not been exposed via the SDKs, thus this is a workaround to call the API directly via the /completion endpoint.\n",
    "While Large Language Models (LLMs) excel at understanding and generating human-like text, they often lack the specificity and context of business data. To unleash the potential for LLMs, in particular, in conversational use cases, providing the right context to ground LLMs in business reality is essential to make the generated answers relevant (factually correct), reliable (based on up-to-date information), and responsible (trace factual errors to the corresponding data source). We use the Retrieval-Augmented Generation (RAG) technique to optimize the output of a large language model with information that is use-case-specific and not available as a training data source for LLMs.\n",
    "\n",
    "AI-assisted document grounding lets SAP customers use their own specific unstructured or semi-structured documents to provide answers to user questions. Customers can connect their document repositories via a Microsoft SharePoint site.\n",
    "\n",
    "A quick check on Document Grounding Support\n",
    "\n",
    "- Grounding is supported by up to 2,000 documents\n",
    "- Document type: PDF and MS Word Document\n",
    "- Document Content: Plain Text (tables and images are not supported)\n",
    "- Language: English\n",
    "- Content Refresh: SharePoint content is updated once every day, meaning any changes to the PDF or Word files in the SharePoint location, the content is refreshed once every day approximately at the time of pipeline setup and we do not have manual refresh at this time\n",
    "- MS SharePoint: You can select a required Folder in your SharePoint"
   ]
  },
  {
   "cell_type": "code",
   "execution_count": 14,
   "id": "f1cb9f63-1262-44cc-a5be-5d9ec6ba5c7f",
   "metadata": {},
   "outputs": [
    {
     "name": "stdout",
     "output_type": "stream",
     "text": [
      "eyJhbGciOiJSUzI1NiIsImprdSI6Imh0dHBzOi8vZ2VuZXJhdGl2ZS1haS1pbnRlcm5hbC1kZXYuYXV0aGVudGljYXRpb24uZXUx\n"
     ]
    }
   ],
   "source": [
    "import requests\n",
    "clientid=\"sb-0408db04-52e5-4d34-91e1-a756ee67b34b!b193334|xsuaa_std!b318061\"\n",
    "clientsecret=\"6442dab3-ce04-4010-ac81-ef25d50be624$xYaQC3iWoWz-truouRqbSEwsa_VmPwviWbos9POf-Xo=\"\n",
    "resourcegroup=\"default\"\n",
    "\n",
    "url = \"https://generative-ai-internal-dev.authentication.eu12.hana.ondemand.com/oauth/token\"\n",
    "\n",
    "payload = {\n",
    "    \"grant_type\": \"client_credentials\",\n",
    "    \"client_id\": clientid,\n",
    "    \"client_secret\": clientsecret\n",
    "}\n",
    "headers = {\"Content-Type\": \"application/x-www-form-urlencoded\"}\n",
    "\n",
    "response = requests.post(url, data=payload, headers=headers)\n",
    "\n",
    "accesstoken=response.json()['access_token']\n",
    "# print access token 100 characters\n",
    "print(response.json()['access_token'][:100])"
   ]
  },
  {
   "cell_type": "code",
   "execution_count": 15,
   "id": "1d1c48cc-2e2c-42ec-b6f0-476815aeb907",
   "metadata": {},
   "outputs": [
    {
     "name": "stdout",
     "output_type": "stream",
     "text": [
      "{'request_id': '20c1440a-cc76-4dff-8f1a-04a7b903fd5c', 'module_results': {'grounding': {'message': 'grounding result', 'data': {'grounding_query': 'grounding call', 'grounding_result': 'registrar , at the time of registration, at a cost of £1 1.  \\nA short certificate, showing just the child\\'s details, at a cost of £1 1.  \\nAny passport application for your child will require a standard birth certificate. 21/10/2024, 14:23 Sagenai City Council\\nhttps://sagenaicity-registry-site.cfapps.eu10-004.hana.ondemand.com/registerbirth.html 1/2```in the week.  \\nBook an appointment online\\nWhat you need to bring with you to your appointment \\nThe only document that you need to bring is the \"Red Book\" (Personal Child Health Record). A\\nrecord of the birth is sent to us by the hospital. \\nBut it’ s useful, to improve the quality of the information recorded in the registration, if you bring\\none of the following for both parents: Passport/Utility Bill/Driving Licence/Marriage or Civil\\nPartnership Certificate.  Same sex couples do not need to bring their parenthood agreement to\\nthe appointment. You will be asked to check and then sign, to confirm that the information\\nrecorded is correct. Mistakes can be corrected but only if you pay a significant fee .  \\nFind out what to do if you need to re-register or change details of a birth that has been registered\\nWhat documents are available \\nChoose from: \\nA standard certificate, showing all the details recorded in the register . This is available from the```Sagenai City Council\\nRegister a Birth\\nAppointments for registering a birth \\nBefore booking your appointment, read the gov .uk guidance on who can register a birth  \\nBirths must be registered within 6 weeks (42 days) and you’ll need to confirm: \\nBaby\\'s date and place of birth, Baby\\'s forename(s) and surname (with exact spellings) \\nMother\\'s full name, date and place of birth, occupation and maiden name/date of marriage (if\\napplicable) \\nWhere father\\'s details are being recorded, the same information as for the mother is needed  \\nThe centre you wish to attend to register (i.e The Register Of fice in Heron House, or the\\nSurestart Centre of your choice if you are a Sagenai resident) \\nBooking your appointment \\nOur appointments get booked up quickly , and we can only open more once a week, on a\\nMonday . If there are none available please keep checking: there’ s usually more availability early\\nin the week.  \\nBook an appointment online\\nWhat you need to bring with you to your appointment```Contact Us\\nRegister Birth\\nRegister Birth 2\\nCivil Partnership\\nOrganise a Marriage\\nMarriages and civil partnerships venue approval\\nMarriage and Civil Partnership ceremonies\\nVenues available for your wedding or civil partnership\\nGiving notice of marriage or civil partnership\\n© 2024 Sagenai City Council21/10/2024, 14:23 Sagenai City Council\\nhttps://sagenaicity-registry-site.cfapps.eu10-004.hana.ondemand.com/registerbirth.html 2/2```Email: support@taskmasterpro.com\\n\\nPhone: 1-800-123-4567\\n\\nLive Chat: Available on our website\\n\\nCommunity Forum\\n\\nJoin our community forum to connect with other SAGenAI AskTheCityApp Pro users:\\n\\nShare tips and tricks.\\n\\nGet advice and support.\\n\\nParticipate in discussions and feedback.\\n\\n\\n\\nThank you for choosing SAGenAI AskTheCityApp Pro! We hope this documentation helps you navigate and utilize the app effectively. For any further assistance, don\\'t hesitate to reach out to our support team.```Communication Tools: Connect with Slack, Microsoft Teams for seamless communication.\\n\\nFile Storage: Attach files from Google Drive, Dropbox, and more.\\n\\nCustomizable Workflows\\n\\nTailor SAGenAI AskTheCityApp Pro to fit your workflow:\\n\\nTemplates: Create custom task and project templates.\\n\\nCustom Fields: Add custom fields to tasks and projects for additional information.\\n\\nWorkflow Automation: Automate repetitive tasks with workflow rules.\\n\\nAutomations\\n\\nSave time with automation features:\\n\\nNavigate to the Automations section.\\n\\nClick Create Automation.\\n\\nDefine the trigger (e.g., task completed, new task created).\\n\\nSet the action (e.g., send notification, update status).\\n\\nClick Save to activate the automation.\\n\\n\\n\\nSupport and Resources\\n\\nFAQs\\n\\nVisit our FAQs page for answers to common questions about SAGenAI AskTheCityApp Pro.\\n\\nContact Support\\n\\nIf you need help, contact our support team:\\n\\nEmail: support@taskmasterpro.com\\n\\nPhone: 1-800-123-4567\\n\\nLive Chat: Available on our website```App Name: SAGenAI AskTheCityApp  Pro\\n\\nWelcome to SAGenAI AskTheCityApp Pro, your ultimate productivity app designed to help you manage tasks, projects, and deadlines seamlessly. This documentation will guide you through all the features of TaskMaster Pro and help you make the most out of the app.\\n\\n\\n\\nTable of Contents\\n\\nIntroduction\\n\\nGetting Started\\n\\nCreating an Account\\n\\nNavigating the Dashboard\\n\\nTask Management\\n\\nCreating Tasks\\n\\nOrganizing Tasks\\n\\nSetting Priorities and Deadlines\\n\\nProject Management\\n\\nCreating Projects\\n\\nAssigning Tasks to Projects\\n\\nTracking Project Progress\\n\\nCollaboration Tools\\n\\nSharing Projects\\n\\nReal-Time Collaboration\\n\\nComments and Discussions\\n\\nAdvanced Features\\n\\nIntegrations\\n\\nCustomizable Workflows\\n\\nAutomations\\n\\nSupport and Resources\\n\\nFAQs\\n\\nContact Support\\n\\nCommunity Forum\\n\\n\\n\\nIntroduction```Citizen\\n\\nAs a citizen, you can make your voice heard and contribute effectively to the betterment of your city. Citizens can report incidents related to public maintenance directly through social media platforms such as Reddit. These reports are automatically fetched by the Citizen Reporting App.\\n\\n\\n\\nThe steps to report an issue are as follows:\\n\\n\\n\\nHow to Use\\n\\nCreate a post on the community page of Sagenai City on Reddit detailing the maintenance issue.\\n\\nInclude specific details to ensure clarity such as:\\n\\nIssue Description:_ Provide a succinct title and detailed description of the issue.\\n\\nLocation: To aid the city authority in locating and solving the issue, provide accurate information about the problem\\'s location.\\n\\n\\n\\nMedia Attachment:_ If required, you can attach photos or videos supporting the described issue. \\n\\n\\n\\nSubmit the post. The app will automatically fetch this post for processing.\\n\\n\\n\\n\\n\\nCity Maintenance Managers:```- SAP Generative AI Hub Access: For incident analysis using Large Language Models.\\n\\n- Social Media API Access: For fetching citizen posts.\\n\\n\\n\\nConclusion\\n\\nThe Citizen Reporting App is a robust solution designed to optimize the management of maintenance issues reported by the citizens of Sagenai City. By integrating cutting-edge technologies like SAP’s Generative AI and HANA Vector engine, the app not only streamlines the process but also ensures that the city’s maintenance resources are utilized efficiently. This initiative is expected to foster a positive perception among the citizens regarding the city’s responsiveness and effectiveness in public administration.```SAGenAI CitizenApp Documentation\\n\\n\\n\\nIntroduction\\n\\nSAGenAI CitizenApp is a user-friendly platform that presents an effective communication bridge between citizens and city maintenance authorities. This innovative application empowers citizens to report city-related issues while providing a mechanism for city\\'s maintenance managers to handle requests, generate SAP S/4HANA Maintenance requests, and statistically track reported issues by category and status. \\n\\n\\n\\nBy integrating advanced AI and database technologies, the app aims to improve the efficiency of the city\\'s maintenance management and enhance the public\\'s perception of the city administration.\\n\\n\\n\\nUser Overview\\n\\nSAGenAI CitizenApp is designed for two essential types of users:\\n\\n\\n\\n1. Citizens of Sagenai City: Residents who report public maintenance issues via social media.\\n\\n2. Maintenance Manager: The city official responsible for reviewing and managing reported incidents.\\n\\n\\n\\nCitizen'}}, 'templating': [{'role': 'user', 'content': 'UserQuestion: must i pay for birth cert? how much does it cost? Context: registrar , at the time of registration, at a cost of £1 1.  \\nA short certificate, showing just the child\\'s details, at a cost of £1 1.  \\nAny passport application for your child will require a standard birth certificate. 21/10/2024, 14:23 Sagenai City Council\\nhttps://sagenaicity-registry-site.cfapps.eu10-004.hana.ondemand.com/registerbirth.html 1/2```in the week.  \\nBook an appointment online\\nWhat you need to bring with you to your appointment \\nThe only document that you need to bring is the \"Red Book\" (Personal Child Health Record). A\\nrecord of the birth is sent to us by the hospital. \\nBut it’ s useful, to improve the quality of the information recorded in the registration, if you bring\\none of the following for both parents: Passport/Utility Bill/Driving Licence/Marriage or Civil\\nPartnership Certificate.  Same sex couples do not need to bring their parenthood agreement to\\nthe appointment. You will be asked to check and then sign, to confirm that the information\\nrecorded is correct. Mistakes can be corrected but only if you pay a significant fee .  \\nFind out what to do if you need to re-register or change details of a birth that has been registered\\nWhat documents are available \\nChoose from: \\nA standard certificate, showing all the details recorded in the register . This is available from the```Sagenai City Council\\nRegister a Birth\\nAppointments for registering a birth \\nBefore booking your appointment, read the gov .uk guidance on who can register a birth  \\nBirths must be registered within 6 weeks (42 days) and you’ll need to confirm: \\nBaby\\'s date and place of birth, Baby\\'s forename(s) and surname (with exact spellings) \\nMother\\'s full name, date and place of birth, occupation and maiden name/date of marriage (if\\napplicable) \\nWhere father\\'s details are being recorded, the same information as for the mother is needed  \\nThe centre you wish to attend to register (i.e The Register Of fice in Heron House, or the\\nSurestart Centre of your choice if you are a Sagenai resident) \\nBooking your appointment \\nOur appointments get booked up quickly , and we can only open more once a week, on a\\nMonday . If there are none available please keep checking: there’ s usually more availability early\\nin the week.  \\nBook an appointment online\\nWhat you need to bring with you to your appointment```Contact Us\\nRegister Birth\\nRegister Birth 2\\nCivil Partnership\\nOrganise a Marriage\\nMarriages and civil partnerships venue approval\\nMarriage and Civil Partnership ceremonies\\nVenues available for your wedding or civil partnership\\nGiving notice of marriage or civil partnership\\n© 2024 Sagenai City Council21/10/2024, 14:23 Sagenai City Council\\nhttps://sagenaicity-registry-site.cfapps.eu10-004.hana.ondemand.com/registerbirth.html 2/2```Email: support@taskmasterpro.com\\n\\nPhone: 1-800-123-4567\\n\\nLive Chat: Available on our website\\n\\nCommunity Forum\\n\\nJoin our community forum to connect with other SAGenAI AskTheCityApp Pro users:\\n\\nShare tips and tricks.\\n\\nGet advice and support.\\n\\nParticipate in discussions and feedback.\\n\\n\\n\\nThank you for choosing SAGenAI AskTheCityApp Pro! We hope this documentation helps you navigate and utilize the app effectively. For any further assistance, don\\'t hesitate to reach out to our support team.```Communication Tools: Connect with Slack, Microsoft Teams for seamless communication.\\n\\nFile Storage: Attach files from Google Drive, Dropbox, and more.\\n\\nCustomizable Workflows\\n\\nTailor SAGenAI AskTheCityApp Pro to fit your workflow:\\n\\nTemplates: Create custom task and project templates.\\n\\nCustom Fields: Add custom fields to tasks and projects for additional information.\\n\\nWorkflow Automation: Automate repetitive tasks with workflow rules.\\n\\nAutomations\\n\\nSave time with automation features:\\n\\nNavigate to the Automations section.\\n\\nClick Create Automation.\\n\\nDefine the trigger (e.g., task completed, new task created).\\n\\nSet the action (e.g., send notification, update status).\\n\\nClick Save to activate the automation.\\n\\n\\n\\nSupport and Resources\\n\\nFAQs\\n\\nVisit our FAQs page for answers to common questions about SAGenAI AskTheCityApp Pro.\\n\\nContact Support\\n\\nIf you need help, contact our support team:\\n\\nEmail: support@taskmasterpro.com\\n\\nPhone: 1-800-123-4567\\n\\nLive Chat: Available on our website```App Name: SAGenAI AskTheCityApp  Pro\\n\\nWelcome to SAGenAI AskTheCityApp Pro, your ultimate productivity app designed to help you manage tasks, projects, and deadlines seamlessly. This documentation will guide you through all the features of TaskMaster Pro and help you make the most out of the app.\\n\\n\\n\\nTable of Contents\\n\\nIntroduction\\n\\nGetting Started\\n\\nCreating an Account\\n\\nNavigating the Dashboard\\n\\nTask Management\\n\\nCreating Tasks\\n\\nOrganizing Tasks\\n\\nSetting Priorities and Deadlines\\n\\nProject Management\\n\\nCreating Projects\\n\\nAssigning Tasks to Projects\\n\\nTracking Project Progress\\n\\nCollaboration Tools\\n\\nSharing Projects\\n\\nReal-Time Collaboration\\n\\nComments and Discussions\\n\\nAdvanced Features\\n\\nIntegrations\\n\\nCustomizable Workflows\\n\\nAutomations\\n\\nSupport and Resources\\n\\nFAQs\\n\\nContact Support\\n\\nCommunity Forum\\n\\n\\n\\nIntroduction```Citizen\\n\\nAs a citizen, you can make your voice heard and contribute effectively to the betterment of your city. Citizens can report incidents related to public maintenance directly through social media platforms such as Reddit. These reports are automatically fetched by the Citizen Reporting App.\\n\\n\\n\\nThe steps to report an issue are as follows:\\n\\n\\n\\nHow to Use\\n\\nCreate a post on the community page of Sagenai City on Reddit detailing the maintenance issue.\\n\\nInclude specific details to ensure clarity such as:\\n\\nIssue Description:_ Provide a succinct title and detailed description of the issue.\\n\\nLocation: To aid the city authority in locating and solving the issue, provide accurate information about the problem\\'s location.\\n\\n\\n\\nMedia Attachment:_ If required, you can attach photos or videos supporting the described issue. \\n\\n\\n\\nSubmit the post. The app will automatically fetch this post for processing.\\n\\n\\n\\n\\n\\nCity Maintenance Managers:```- SAP Generative AI Hub Access: For incident analysis using Large Language Models.\\n\\n- Social Media API Access: For fetching citizen posts.\\n\\n\\n\\nConclusion\\n\\nThe Citizen Reporting App is a robust solution designed to optimize the management of maintenance issues reported by the citizens of Sagenai City. By integrating cutting-edge technologies like SAP’s Generative AI and HANA Vector engine, the app not only streamlines the process but also ensures that the city’s maintenance resources are utilized efficiently. This initiative is expected to foster a positive perception among the citizens regarding the city’s responsiveness and effectiveness in public administration.```SAGenAI CitizenApp Documentation\\n\\n\\n\\nIntroduction\\n\\nSAGenAI CitizenApp is a user-friendly platform that presents an effective communication bridge between citizens and city maintenance authorities. This innovative application empowers citizens to report city-related issues while providing a mechanism for city\\'s maintenance managers to handle requests, generate SAP S/4HANA Maintenance requests, and statistically track reported issues by category and status. \\n\\n\\n\\nBy integrating advanced AI and database technologies, the app aims to improve the efficiency of the city\\'s maintenance management and enhance the public\\'s perception of the city administration.\\n\\n\\n\\nUser Overview\\n\\nSAGenAI CitizenApp is designed for two essential types of users:\\n\\n\\n\\n1. Citizens of Sagenai City: Residents who report public maintenance issues via social media.\\n\\n2. Maintenance Manager: The city official responsible for reviewing and managing reported incidents.\\n\\n\\n\\nCitizen'}], 'input_filtering': {'message': 'Input filter passed successfully.', 'data': {'azure_content_safety': {'Hate': 0, 'SelfHarm': 0, 'Sexual': 0, 'Violence': 0}}}, 'llm': {'id': '', 'object': 'chat.completion', 'created': 1731301042, 'model': 'gemini-1.5-pro', 'choices': [{'index': 0, 'message': {'role': 'assistant', 'content': 'The provided text states that **a standard birth certificate costs £1 1s.** \\n\\nIt also mentions that a short certificate is available for the same price, but you will need a standard birth certificate when applying for a passport for your child. \\n'}, 'finish_reason': 'stop'}], 'usage': {'completion_tokens': 52, 'prompt_tokens': 1678, 'total_tokens': 1730}}, 'output_filtering': {'message': '0 of 1 choices failed the output filter.', 'data': {'choices': [{'index': 0, 'azure_content_safety': {'Hate': 0, 'SelfHarm': 0, 'Sexual': 0, 'Violence': 0}}]}}}, 'orchestration_result': {'id': '', 'object': 'chat.completion', 'created': 1731301042, 'model': 'gemini-1.5-pro', 'choices': [{'index': 0, 'message': {'role': 'assistant', 'content': 'The provided text states that **a standard birth certificate costs £1 1s.** \\n\\nIt also mentions that a short certificate is available for the same price, but you will need a standard birth certificate when applying for a passport for your child. \\n'}, 'finish_reason': 'stop'}], 'usage': {'completion_tokens': 52, 'prompt_tokens': 1678, 'total_tokens': 1730}}}\n",
      "registrar , at the time of registration, at a cost of £1 1.  \n",
      "A short certificate, showing just the child's details, at a cost of £1 1.  \n",
      "Any passport application for your child will require a standard birth certificate. 21/10/2024, 14:23 Sagenai City Council\n",
      "https://sagenaicity-registry-site.cfapps.eu10-004.hana.ondemand.com/registerbirth.html 1/2```in the week.  \n",
      "Book an appointment online\n",
      "What you need to bring with you to your appointment \n",
      "The only document that you need to bring is the \"Red Book\" (Personal Child Health Record). A\n",
      "record of the birth is sent to us by the hospital. \n",
      "But it’ s useful, to improve the quality of the information recorded in the registration, if you bring\n",
      "one of the following for both parents: Passport/Utility Bill/Driving Licence/Marriage or Civil\n",
      "Partnership Certificate.  Same sex couples do not need to bring their parenthood agreement to\n",
      "the appointment. You will be asked to check and then sign, to confirm that the information\n",
      "recorded is correct. Mistakes can be corrected but only if you pay a significant fee .  \n",
      "Find out what to do if you need to re-register or change details of a birth that has been registered\n",
      "What documents are available \n",
      "Choose from: \n",
      "A standard certificate, showing all the details recorded in the register . This is available from the```Sagenai City Council\n",
      "Register a Birth\n",
      "Appointments for registering a birth \n",
      "Before booking your appointment, read the gov .uk guidance on who can register a birth  \n",
      "Births must be registered within 6 weeks (42 days) and you’ll need to confirm: \n",
      "Baby's date and place of birth, Baby's forename(s) and surname (with exact spellings) \n",
      "Mother's full name, date and place of birth, occupation and maiden name/date of marriage (if\n",
      "applicable) \n",
      "Where father's details are being recorded, the same information as for the mother is needed  \n",
      "The centre you wish to attend to register (i.e The Register Of fice in Heron House, or the\n",
      "Surestart Centre of your choice if you are a Sagenai resident) \n",
      "Booking your appointment \n",
      "Our appointments get booked up quickly , and we can only open more once a week, on a\n",
      "Monday . If there are none available please keep checking: there’ s usually more availability early\n",
      "in the week.  \n",
      "Book an appointment online\n",
      "What you need to bring with you to your appointment```Contact Us\n",
      "Register Birth\n",
      "Register Birth 2\n",
      "Civil Partnership\n",
      "Organise a Marriage\n",
      "Marriages and civil partnerships venue approval\n",
      "Marriage and Civil Partnership ceremonies\n",
      "Venues available for your wedding or civil partnership\n",
      "Giving notice of marriage or civil partnership\n",
      "© 2024 Sagenai City Council21/10/2024, 14:23 Sagenai City Council\n",
      "https://sagenaicity-registry-site.cfapps.eu10-004.hana.ondemand.com/registerbirth.html 2/2```Email: support@taskmasterpro.com\n",
      "\n",
      "Phone: 1-800-123-4567\n",
      "\n",
      "Live Chat: Available on our website\n",
      "\n",
      "Community Forum\n",
      "\n",
      "Join our community forum to connect with other SAGenAI AskTheCityApp Pro users:\n",
      "\n",
      "Share tips and tricks.\n",
      "\n",
      "Get advice and support.\n",
      "\n",
      "Participate in discussions and feedback.\n",
      "\n",
      "\n",
      "\n",
      "Thank you for choosing SAGenAI AskTheCityApp Pro! We hope this documentation helps you navigate and utilize the app effectively. For any further assistance, don't hesitate to reach out to our support team.```Communication Tools: Connect with Slack, Microsoft Teams for seamless communication.\n",
      "\n",
      "File Storage: Attach files from Google Drive, Dropbox, and more.\n",
      "\n",
      "Customizable Workflows\n",
      "\n",
      "Tailor SAGenAI AskTheCityApp Pro to fit your workflow:\n",
      "\n",
      "Templates: Create custom task and project templates.\n",
      "\n",
      "Custom Fields: Add custom fields to tasks and projects for additional information.\n",
      "\n",
      "Workflow Automation: Automate repetitive tasks with workflow rules.\n",
      "\n",
      "Automations\n",
      "\n",
      "Save time with automation features:\n",
      "\n",
      "Navigate to the Automations section.\n",
      "\n",
      "Click Create Automation.\n",
      "\n",
      "Define the trigger (e.g., task completed, new task created).\n",
      "\n",
      "Set the action (e.g., send notification, update status).\n",
      "\n",
      "Click Save to activate the automation.\n",
      "\n",
      "\n",
      "\n",
      "Support and Resources\n",
      "\n",
      "FAQs\n",
      "\n",
      "Visit our FAQs page for answers to common questions about SAGenAI AskTheCityApp Pro.\n",
      "\n",
      "Contact Support\n",
      "\n",
      "If you need help, contact our support team:\n",
      "\n",
      "Email: support@taskmasterpro.com\n",
      "\n",
      "Phone: 1-800-123-4567\n",
      "\n",
      "Live Chat: Available on our website```App Name: SAGenAI AskTheCityApp  Pro\n",
      "\n",
      "Welcome to SAGenAI AskTheCityApp Pro, your ultimate productivity app designed to help you manage tasks, projects, and deadlines seamlessly. This documentation will guide you through all the features of TaskMaster Pro and help you make the most out of the app.\n",
      "\n",
      "\n",
      "\n",
      "Table of Contents\n",
      "\n",
      "Introduction\n",
      "\n",
      "Getting Started\n",
      "\n",
      "Creating an Account\n",
      "\n",
      "Navigating the Dashboard\n",
      "\n",
      "Task Management\n",
      "\n",
      "Creating Tasks\n",
      "\n",
      "Organizing Tasks\n",
      "\n",
      "Setting Priorities and Deadlines\n",
      "\n",
      "Project Management\n",
      "\n",
      "Creating Projects\n",
      "\n",
      "Assigning Tasks to Projects\n",
      "\n",
      "Tracking Project Progress\n",
      "\n",
      "Collaboration Tools\n",
      "\n",
      "Sharing Projects\n",
      "\n",
      "Real-Time Collaboration\n",
      "\n",
      "Comments and Discussions\n",
      "\n",
      "Advanced Features\n",
      "\n",
      "Integrations\n",
      "\n",
      "Customizable Workflows\n",
      "\n",
      "Automations\n",
      "\n",
      "Support and Resources\n",
      "\n",
      "FAQs\n",
      "\n",
      "Contact Support\n",
      "\n",
      "Community Forum\n",
      "\n",
      "\n",
      "\n",
      "Introduction```Citizen\n",
      "\n",
      "As a citizen, you can make your voice heard and contribute effectively to the betterment of your city. Citizens can report incidents related to public maintenance directly through social media platforms such as Reddit. These reports are automatically fetched by the Citizen Reporting App.\n",
      "\n",
      "\n",
      "\n",
      "The steps to report an issue are as follows:\n",
      "\n",
      "\n",
      "\n",
      "How to Use\n",
      "\n",
      "Create a post on the community page of Sagenai City on Reddit detailing the maintenance issue.\n",
      "\n",
      "Include specific details to ensure clarity such as:\n",
      "\n",
      "Issue Description:_ Provide a succinct title and detailed description of the issue.\n",
      "\n",
      "Location: To aid the city authority in locating and solving the issue, provide accurate information about the problem's location.\n",
      "\n",
      "\n",
      "\n",
      "Media Attachment:_ If required, you can attach photos or videos supporting the described issue. \n",
      "\n",
      "\n",
      "\n",
      "Submit the post. The app will automatically fetch this post for processing.\n",
      "\n",
      "\n",
      "\n",
      "\n",
      "\n",
      "City Maintenance Managers:```- SAP Generative AI Hub Access: For incident analysis using Large Language Models.\n",
      "\n",
      "- Social Media API Access: For fetching citizen posts.\n",
      "\n",
      "\n",
      "\n",
      "Conclusion\n",
      "\n",
      "The Citizen Reporting App is a robust solution designed to optimize the management of maintenance issues reported by the citizens of Sagenai City. By integrating cutting-edge technologies like SAP’s Generative AI and HANA Vector engine, the app not only streamlines the process but also ensures that the city’s maintenance resources are utilized efficiently. This initiative is expected to foster a positive perception among the citizens regarding the city’s responsiveness and effectiveness in public administration.```SAGenAI CitizenApp Documentation\n",
      "\n",
      "\n",
      "\n",
      "Introduction\n",
      "\n",
      "SAGenAI CitizenApp is a user-friendly platform that presents an effective communication bridge between citizens and city maintenance authorities. This innovative application empowers citizens to report city-related issues while providing a mechanism for city's maintenance managers to handle requests, generate SAP S/4HANA Maintenance requests, and statistically track reported issues by category and status. \n",
      "\n",
      "\n",
      "\n",
      "By integrating advanced AI and database technologies, the app aims to improve the efficiency of the city's maintenance management and enhance the public's perception of the city administration.\n",
      "\n",
      "\n",
      "\n",
      "User Overview\n",
      "\n",
      "SAGenAI CitizenApp is designed for two essential types of users:\n",
      "\n",
      "\n",
      "\n",
      "1. Citizens of Sagenai City: Residents who report public maintenance issues via social media.\n",
      "\n",
      "2. Maintenance Manager: The city official responsible for reviewing and managing reported incidents.\n",
      "\n",
      "\n",
      "\n",
      "Citizen\n"
     ]
    }
   ],
   "source": [
    "url = \"https://api.ai.intprod-eu12.eu-central-1.aws.ml.hana.ondemand.com/v2/inference/deployments/db479e9a3c5e8722/completion\"\n",
    "\n",
    "payload = {\n",
    "    \"orchestration_config\": { \"module_configurations\": {\n",
    "            \"grounding_module_config\": {\n",
    "                \"type\": \"document_grounding_service\",\n",
    "                \"config\": {\n",
    "                    \"filters\": [\n",
    "                        {\n",
    "                            \"id\": \"filter1\",\n",
    "                            \"data_repositories\": [\"*\"],\n",
    "                            \"search_config\": {},\n",
    "                            \"data_repository_type\": \"vector\"\n",
    "                        }\n",
    "                    ],\n",
    "                    \"input_params\": [\"groundingRequest\"],\n",
    "                    \"output_param\": \"groundingOutput\"\n",
    "                }\n",
    "            },\n",
    "            \"llm_module_config\": {\n",
    "                \"model_name\": \"gemini-1.5-pro\",\n",
    "                \"model_params\": {},\n",
    "                \"model_version\": \"001\"\n",
    "            },\n",
    "            \"templating_module_config\": {\n",
    "                \"template\": [\n",
    "                    {\n",
    "                        \"role\": \"user\",\n",
    "                        \"content\": \"UserQuestion: {{?groundingRequest}} Context: {{?groundingOutput}}\"\n",
    "                    }\n",
    "                ],\n",
    "                \"defaults\": {}\n",
    "            },\n",
    "            \"filtering_module_config\": {\n",
    "                \"input\": { \"filters\": [\n",
    "                        {\n",
    "                            \"type\": \"azure_content_safety\",\n",
    "                            \"config\": {\n",
    "                                \"Hate\": 2,\n",
    "                                \"SelfHarm\": 2,\n",
    "                                \"Sexual\": 2,\n",
    "                                \"Violence\": 2\n",
    "                            }\n",
    "                        }\n",
    "                    ] },\n",
    "                \"output\": { \"filters\": [\n",
    "                        {\n",
    "                            \"type\": \"azure_content_safety\",\n",
    "                            \"config\": {\n",
    "                                \"Hate\": 2,\n",
    "                                \"SelfHarm\": 2,\n",
    "                                \"Sexual\": 2,\n",
    "                                \"Violence\": 2\n",
    "                            }\n",
    "                        }\n",
    "                    ] }\n",
    "            }\n",
    "        } },\n",
    "    \"input_params\": { \"groundingRequest\": \"must i pay for birth cert? how much does it cost?\" }\n",
    "}\n",
    "headers = {\"ai-resource-group\": resourcegroup, \"Authorization\": \"Bearer \" + accesstoken}\n",
    "\n",
    "response = requests.post(url, json=payload, headers=headers)\n",
    "\n",
    "print(response.json())\n",
    "print(response.json()[\"module_results\"][\"grounding\"][\"data\"][\"grounding_result\"])"
   ]
  }
 ],
 "metadata": {
  "kernelspec": {
   "display_name": "Python 3 (ipykernel)",
   "language": "python",
   "name": "python3"
  },
  "language_info": {
   "codemirror_mode": {
    "name": "ipython",
    "version": 3
   },
   "file_extension": ".py",
   "mimetype": "text/x-python",
   "name": "python",
   "nbconvert_exporter": "python",
   "pygments_lexer": "ipython3",
   "version": "3.11.9"
  }
 },
 "nbformat": 4,
 "nbformat_minor": 5
}
