{
 "cells": [
  {
   "cell_type": "markdown",
   "id": "c28092c7-ee01-4f1a-9920-65a8a51d4061",
   "metadata": {},
   "source": [
    "# Load triples to HANA Cloud KG Engine"
   ]
  },
  {
   "cell_type": "code",
   "execution_count": 2,
   "id": "d0d7f2f9-d563-4099-a227-4ecf4d9cbabc",
   "metadata": {},
   "outputs": [],
   "source": [
    "#Credentials\n",
    "address='xxx'\n",
    "port='443'\n",
    "user='DBADMIN'\n",
    "password='xxx'"
   ]
  },
  {
   "cell_type": "code",
   "execution_count": 3,
   "id": "4da539f1-2e8a-44c3-9e28-d30ae426325e",
   "metadata": {},
   "outputs": [],
   "source": [
    "from hdbcli import dbapi\n",
    "\n",
    "# connect to database using username/password\n",
    "conn = dbapi.connect(user=user, password=password, address=address, port=port)\n",
    "cursor = conn.cursor()"
   ]
  },
  {
   "cell_type": "code",
   "execution_count": 47,
   "id": "30977059-d829-4673-a7ae-12eecc5f1309",
   "metadata": {},
   "outputs": [],
   "source": [
    "#Populate a new RDF in HANA Cloud with the ttl file content. We put the ontology into a specific graph.\n",
    "path = \"xxx\"\n",
    "ttl_filename = path + \"ontology.ttl\"\n",
    "graph_name = \"http://www.semanticweb.org/ontologies/2025/smart-technical-advisory-ontology-test\""
   ]
  },
  {
   "cell_type": "code",
   "execution_count": 41,
   "id": "049e676e-e1d1-4597-accc-aa5f1261135a",
   "metadata": {},
   "outputs": [
    {
     "name": "stdout",
     "output_type": "stream",
     "text": [
      "drop graph <http://www.semanticweb.org/ontologies/2025/smart-technical-advisory-ontology-test>\n"
     ]
    }
   ],
   "source": [
    "# Drop existing one if needed\n",
    "query = \"\"\"drop graph <{graph_name}>\"\"\". format(graph_name=graph_name)\n",
    "print(query)"
   ]
  },
  {
   "cell_type": "code",
   "execution_count": 25,
   "id": "57d74764-ba52-49a6-b786-cc8ece509430",
   "metadata": {},
   "outputs": [],
   "source": [
    "#Uncomment to drop the ontology\n",
    "#resp = conn.cursor().callproc('SPARQL_EXECUTE', (query, '', '?', None) )"
   ]
  },
  {
   "cell_type": "code",
   "execution_count": 48,
   "id": "4cd73700-ecd4-4c60-8d7e-11087dcc35f3",
   "metadata": {},
   "outputs": [],
   "source": [
    "with open(ttl_filename, 'r') as ttlfp:\n",
    "    request_hdrs = ''\n",
    "    request_hdrs += 'rqx-load-protocol: true' + '\\r\\n'            # required header for upload protocol\n",
    "    request_hdrs += 'rqx-load-filename: ' + ttl_filename + '\\r\\n' # optional header\n",
    "    request_hdrs += 'rqx-load-graphname: ' + graph_name + '\\r\\n'   # optional header to specify name of the graph, \n",
    "                                                                  #if not provided RDF data will be loaded to internal-default-graph\n",
    "    conn.cursor().callproc('SPARQL_EXECUTE', (ttlfp.read(), request_hdrs, '?', None))"
   ]
  },
  {
   "cell_type": "code",
   "execution_count": 51,
   "id": "2bd64a92-a835-4129-a2fa-e352272aa999",
   "metadata": {},
   "outputs": [],
   "source": [
    "query = \"\"\"\n",
    "    SELECT * \n",
    "    FROM SPARQL_TABLE('\n",
    "        prefix : <http://www.semanticweb.org/ontologies/2025/smart-technical-advisory-ontology/>\n",
    "        select ?s \n",
    "        from <http://www.semanticweb.org/ontologies/2025/smart-technical-advisory-ontology-test> \n",
    "        where { \n",
    "            ?s a :SAPEmployee\n",
    "            }\n",
    "        '\n",
    "        )\"\"\""
   ]
  },
  {
   "cell_type": "code",
   "execution_count": 52,
   "id": "2ae40319-2036-45b9-9adb-f723711082d5",
   "metadata": {},
   "outputs": [
    {
     "name": "stdout",
     "output_type": "stream",
     "text": [
      "('http://www.semanticweb.org/ontologies/2025/smart-technical-advisory-ontology#xxxx.yyyyy@sap.com',)\n"
     ]
    }
   ],
   "source": [
    "#There is just one individual\n",
    "cursor.execute(query)\n",
    "for row in cursor:\n",
    "    print(row)"
   ]
  },
  {
   "cell_type": "code",
   "execution_count": 38,
   "id": "daef6826-9f76-4e7c-82d7-5f99eecd0bc4",
   "metadata": {},
   "outputs": [],
   "source": [
    "#Function to load more ttl files\n",
    "def load_file(ttl_filename, graph_name):\n",
    "    try:\n",
    "        with open(ttl_filename, 'r') as ttlfp:\n",
    "            request_hdrs = ''\n",
    "            request_hdrs += 'rqx-load-protocol: true' + '\\r\\n'            # required header for upload protocol\n",
    "            request_hdrs += 'rqx-load-filename: ' + ttl_filename + '\\r\\n' # optional header\n",
    "            request_hdrs += 'rqx-load-graphname: ' + graph_name + '\\r\\n'  # optional header to specify name of the graph, \n",
    "                                                                          # if not provided RDF data will be loaded \n",
    "                                                                          # to internal-default-graph\n",
    "            conn.cursor().callproc('SPARQL_EXECUTE', (ttlfp.read(), request_hdrs, '?', None))\n",
    "        return 0\n",
    "    except:\n",
    "        print(\"An exception occurred\")\n",
    "        return 1"
   ]
  },
  {
   "cell_type": "code",
   "execution_count": 39,
   "id": "94c4208e-9631-4876-a1fd-bc2948486a52",
   "metadata": {},
   "outputs": [],
   "source": [
    "query = \"\"\"drop graph <http://www.semanticweb.org/ontologies/2025/smart-technical-advisory-rdf-test>\"\"\""
   ]
  },
  {
   "cell_type": "code",
   "execution_count": 258,
   "id": "46516a6c-9345-469c-ad24-4a6e1b920cb8",
   "metadata": {},
   "outputs": [],
   "source": [
    "#Uncomment to drop the rdf\n",
    "#resp = conn.cursor().callproc('SPARQL_EXECUTE', (query, '', '?', None) )"
   ]
  },
  {
   "cell_type": "code",
   "execution_count": 53,
   "id": "65c102df-663a-444d-94ea-470baacb759a",
   "metadata": {},
   "outputs": [
    {
     "name": "stdout",
     "output_type": "stream",
     "text": [
      "/Users/I559573/Documents/GitHub/btp-generative-ai-hub-use-cases/51-Knowledge-Graph-Explicit-knowledge-representation-and-reasoning/knowledge_graph/instances/INDUSTRY2PSR.ttl\n",
      "29\n",
      "range(0, 29)\n"
     ]
    }
   ],
   "source": [
    "import glob\n",
    "\n",
    "path = \"xxx\"\n",
    "\n",
    "list = sorted(glob.glob(path + \"*.ttl\"))\n",
    "print(list[5])\n",
    "print(len(list))"
   ]
  },
  {
   "cell_type": "code",
   "execution_count": 54,
   "id": "88565c9f-ca70-4dee-87f0-13e8d7853d88",
   "metadata": {},
   "outputs": [
    {
     "name": "stdout",
     "output_type": "stream",
     "text": [
      "0 /Users/I559573/Documents/GitHub/btp-generative-ai-hub-use-cases/51-Knowledge-Graph-Explicit-knowledge-representation-and-reasoning/knowledge_graph/instances/AI_SCENARIO_TYPE.ttl\n",
      "1 /Users/I559573/Documents/GitHub/btp-generative-ai-hub-use-cases/51-Knowledge-Graph-Explicit-knowledge-representation-and-reasoning/knowledge_graph/instances/BTP_SCENARIO_TYPE.ttl\n",
      "2 /Users/I559573/Documents/GitHub/btp-generative-ai-hub-use-cases/51-Knowledge-Graph-Explicit-knowledge-representation-and-reasoning/knowledge_graph/instances/COUNTRY.ttl\n",
      "3 /Users/I559573/Documents/GitHub/btp-generative-ai-hub-use-cases/51-Knowledge-Graph-Explicit-knowledge-representation-and-reasoning/knowledge_graph/instances/GTM_OUTCOME.ttl\n",
      "4 /Users/I559573/Documents/GitHub/btp-generative-ai-hub-use-cases/51-Knowledge-Graph-Explicit-knowledge-representation-and-reasoning/knowledge_graph/instances/GTM_ROUTE.ttl\n",
      "5 /Users/I559573/Documents/GitHub/btp-generative-ai-hub-use-cases/51-Knowledge-Graph-Explicit-knowledge-representation-and-reasoning/knowledge_graph/instances/INDUSTRY2PSR.ttl\n",
      "6 /Users/I559573/Documents/GitHub/btp-generative-ai-hub-use-cases/51-Knowledge-Graph-Explicit-knowledge-representation-and-reasoning/knowledge_graph/instances/INDUSTRY_LOOKUP.ttl\n",
      "7 /Users/I559573/Documents/GitHub/btp-generative-ai-hub-use-cases/51-Knowledge-Graph-Explicit-knowledge-representation-and-reasoning/knowledge_graph/instances/INITIATOR.ttl\n",
      "8 /Users/I559573/Documents/GitHub/btp-generative-ai-hub-use-cases/51-Knowledge-Graph-Explicit-knowledge-representation-and-reasoning/knowledge_graph/instances/LOB_LOOKUP.ttl\n",
      "9 /Users/I559573/Documents/GitHub/btp-generative-ai-hub-use-cases/51-Knowledge-Graph-Explicit-knowledge-representation-and-reasoning/knowledge_graph/instances/ORGANIZATION.ttl\n",
      "10 /Users/I559573/Documents/GitHub/btp-generative-ai-hub-use-cases/51-Knowledge-Graph-Explicit-knowledge-representation-and-reasoning/knowledge_graph/instances/PARTNER.ttl\n",
      "11 /Users/I559573/Documents/GitHub/btp-generative-ai-hub-use-cases/51-Knowledge-Graph-Explicit-knowledge-representation-and-reasoning/knowledge_graph/instances/PARTNER2PARTNER_TYPE.ttl\n",
      "12 /Users/I559573/Documents/GitHub/btp-generative-ai-hub-use-cases/51-Knowledge-Graph-Explicit-knowledge-representation-and-reasoning/knowledge_graph/instances/PARTNERSHIP_TYPE.ttl\n",
      "13 /Users/I559573/Documents/GitHub/btp-generative-ai-hub-use-cases/51-Knowledge-Graph-Explicit-knowledge-representation-and-reasoning/knowledge_graph/instances/PARTNER_CONTACT_PERSON.ttl\n",
      "14 /Users/I559573/Documents/GitHub/btp-generative-ai-hub-use-cases/51-Knowledge-Graph-Explicit-knowledge-representation-and-reasoning/knowledge_graph/instances/PARTNER_SERVICE_REQUEST.ttl\n",
      "15 /Users/I559573/Documents/GitHub/btp-generative-ai-hub-use-cases/51-Knowledge-Graph-Explicit-knowledge-representation-and-reasoning/knowledge_graph/instances/PARTNER_TYPE_LOOKUP.ttl\n",
      "16 /Users/I559573/Documents/GitHub/btp-generative-ai-hub-use-cases/51-Knowledge-Graph-Explicit-knowledge-representation-and-reasoning/knowledge_graph/instances/PBC_ORDER_NUMBERS.ttl\n",
      "17 /Users/I559573/Documents/GitHub/btp-generative-ai-hub-use-cases/51-Knowledge-Graph-Explicit-knowledge-representation-and-reasoning/knowledge_graph/instances/PRODUCT.ttl\n",
      "18 /Users/I559573/Documents/GitHub/btp-generative-ai-hub-use-cases/51-Knowledge-Graph-Explicit-knowledge-representation-and-reasoning/knowledge_graph/instances/PROGRAM_INITIATIVE.ttl\n",
      "19 /Users/I559573/Documents/GitHub/btp-generative-ai-hub-use-cases/51-Knowledge-Graph-Explicit-knowledge-representation-and-reasoning/knowledge_graph/instances/PROGRAM_INITIATIVE2PSR.ttl\n",
      "20 /Users/I559573/Documents/GitHub/btp-generative-ai-hub-use-cases/51-Knowledge-Graph-Explicit-knowledge-representation-and-reasoning/knowledge_graph/instances/PSR_UC_SAP_PRODUCTS_USED.ttl\n",
      "21 /Users/I559573/Documents/GitHub/btp-generative-ai-hub-use-cases/51-Knowledge-Graph-Explicit-knowledge-representation-and-reasoning/knowledge_graph/instances/REQUIRED_SUPPORT_TYPE.ttl\n",
      "22 /Users/I559573/Documents/GitHub/btp-generative-ai-hub-use-cases/51-Knowledge-Graph-Explicit-knowledge-representation-and-reasoning/knowledge_graph/instances/REQUIRED_SUPPORT_TYPE2PSR.ttl\n",
      "An exception occurred\n",
      "23 /Users/I559573/Documents/GitHub/btp-generative-ai-hub-use-cases/51-Knowledge-Graph-Explicit-knowledge-representation-and-reasoning/knowledge_graph/instances/SAP_EMPLOYEE.ttl\n",
      "24 /Users/I559573/Documents/GitHub/btp-generative-ai-hub-use-cases/51-Knowledge-Graph-Explicit-knowledge-representation-and-reasoning/knowledge_graph/instances/SAP_REGION.ttl\n",
      "25 /Users/I559573/Documents/GitHub/btp-generative-ai-hub-use-cases/51-Knowledge-Graph-Explicit-knowledge-representation-and-reasoning/knowledge_graph/instances/SERVICE.ttl\n",
      "26 /Users/I559573/Documents/GitHub/btp-generative-ai-hub-use-cases/51-Knowledge-Graph-Explicit-knowledge-representation-and-reasoning/knowledge_graph/instances/SERVICE_TYPE.ttl\n",
      "27 /Users/I559573/Documents/GitHub/btp-generative-ai-hub-use-cases/51-Knowledge-Graph-Explicit-knowledge-representation-and-reasoning/knowledge_graph/instances/SOURCE_OF_REQUEST.ttl\n",
      "28 /Users/I559573/Documents/GitHub/btp-generative-ai-hub-use-cases/51-Knowledge-Graph-Explicit-knowledge-representation-and-reasoning/knowledge_graph/instances/USE_CASE.ttl\n"
     ]
    }
   ],
   "source": [
    "for i in range(len(list)):\n",
    "    print(i, list[i])\n",
    "    ttl_filename = list[i]\n",
    "    graph_name = \"http://www.semanticweb.org/ontologies/2025/smart-technical-advisory-rdf-test\"\n",
    "    load_file(ttl_filename, graph_name)"
   ]
  },
  {
   "cell_type": "code",
   "execution_count": 67,
   "id": "64d99a70-2bcf-45a4-b4ec-1288b95f7a87",
   "metadata": {},
   "outputs": [],
   "source": [
    "# Just check the scenario type URI\n",
    "query = \"\"\"\n",
    "    prefix : <http://www.semanticweb.org/ontologies/2025/smart-technical-advisory-ontology/>\n",
    "    select ?s \n",
    "    from <http://www.semanticweb.org/ontologies/2025/smart-technical-advisory-rdf-test>\n",
    "    where {\n",
    "        #?s a :SAPAIScenario\n",
    "        #?s a :UseCase\n",
    "        ?s a :SAPPartnerContact\n",
    "        }\n",
    "    LIMIT 10\n",
    "\"\"\""
   ]
  },
  {
   "cell_type": "code",
   "execution_count": 68,
   "id": "6412634a-593e-457d-8d54-9bb295af892f",
   "metadata": {},
   "outputs": [
    {
     "name": "stdout",
     "output_type": "stream",
     "text": [
      "s\n",
      "http://www.semanticweb.org/ontologies/2025/smart-technical-advisory-ontology/oliver.lee@362109.com\n",
      "http://www.semanticweb.org/ontologies/2025/smart-technical-advisory-ontology/noah.brown@1719068.com\n",
      "http://www.semanticweb.org/ontologies/2025/smart-technical-advisory-ontology/olivia.patel@708379.com\n",
      "http://www.semanticweb.org/ontologies/2025/smart-technical-advisory-ontology/ava.thomas@698634.com\n",
      "http://www.semanticweb.org/ontologies/2025/smart-technical-advisory-ontology/ella.rodriguez@481405.com\n",
      "http://www.semanticweb.org/ontologies/2025/smart-technical-advisory-ontology/liam.wilson@1691507.com\n",
      "http://www.semanticweb.org/ontologies/2025/smart-technical-advisory-ontology/amelia.wilson@663962.com\n",
      "http://www.semanticweb.org/ontologies/2025/smart-technical-advisory-ontology/lucas.johnson@665751.com\n",
      "http://www.semanticweb.org/ontologies/2025/smart-technical-advisory-ontology/isabella.clark@515403.com\n",
      "http://www.semanticweb.org/ontologies/2025/smart-technical-advisory-ontology/oliver.brown@334333.com\n",
      "\n"
     ]
    }
   ],
   "source": [
    "resp = conn.cursor().callproc('SPARQL_EXECUTE', (query, 'Accept: application/sparql-results+csv', '?', None) )\n",
    "print(resp[2]) "
   ]
  },
  {
   "cell_type": "code",
   "execution_count": 93,
   "id": "f5699884-52fd-498e-9a1e-9fc619bf6e01",
   "metadata": {},
   "outputs": [],
   "source": [
    "# Check all the service requests initiated by the partner, in particular those from Partner2301317\n",
    "query = \"\"\"\n",
    "    SELECT * \n",
    "    FROM SPARQL_TABLE('\n",
    "        prefix rdf: <http://www.w3.org/1999/02/22-rdf-syntax-ns#>\n",
    "        prefix rdfs: <http://www.w3.org/2000/01/rdf-schema#>\n",
    "        prefix : <http://www.semanticweb.org/ontologies/2025/smart-technical-advisory-ontology/> \n",
    "        prefix owl: <http://www.w3.org/2002/07/owl#> \n",
    "        \n",
    "        select ?psrRef ?partnerName ?initiatorValue ?status\n",
    "        from <http://www.semanticweb.org/ontologies/2025/smart-technical-advisory-rdf-test> \n",
    "        where { \n",
    "            ?psrRef a :SAPServiceRequest ;\n",
    "                :wasInitiatedBy ?initiatorRef ;\n",
    "                :requestedBy ?partnerRef ;\n",
    "                :hasStatus ?status .\n",
    "            ?partnerRef :accountName ?partnerName .\n",
    "            ?initiatorRef :hasName ?initiatorValue .\n",
    "            }\n",
    "        LIMIT 10\n",
    "        '\n",
    "    )\"\"\""
   ]
  },
  {
   "cell_type": "code",
   "execution_count": 94,
   "id": "992754eb-71e5-4824-a28c-24aa330e7c5e",
   "metadata": {},
   "outputs": [
    {
     "name": "stdout",
     "output_type": "stream",
     "text": [
      "('http://www.semanticweb.org/ontologies/2025/smart-technical-advisory-ontology/ServiceRequest85ef55b1-e74a-4be5-b7e3-835873ffcb06', 'Hogwarts Consulting', 'Partner', 'completed')\n"
     ]
    }
   ],
   "source": [
    "cursor.execute(query)\n",
    "for row in cursor:\n",
    "    print(row)"
   ]
  },
  {
   "cell_type": "code",
   "execution_count": 71,
   "id": "e4531a0c-3030-4797-afd9-74043b887684",
   "metadata": {},
   "outputs": [
    {
     "name": "stdout",
     "output_type": "stream",
     "text": [
      "Triples\n",
      "54626\n",
      "\n"
     ]
    }
   ],
   "source": [
    "# Count the number of triples in the rdf\n",
    "query = \"\"\"\n",
    "    SELECT (COUNT(*) as ?Triples) \n",
    "    WHERE \n",
    "      { GRAPH <http://www.semanticweb.org/ontologies/2025/smart-technical-advisory-rdf-test> \n",
    "          { ?s ?p ?o } \n",
    "      }\n",
    "\"\"\"\n",
    "resp = conn.cursor().callproc('SPARQL_EXECUTE', (query, 'Accept: application/sparql-results+csv', '?', None) )\n",
    "print(resp[2]) "
   ]
  },
  {
   "cell_type": "code",
   "execution_count": 74,
   "id": "0070ddf8-196d-456f-baee-6b161fdc9de9",
   "metadata": {},
   "outputs": [
    {
     "name": "stdout",
     "output_type": "stream",
     "text": [
      "c\n",
      "http://www.semanticweb.org/ontologies/2025/smart-technical-advisory-ontology/SAPServiceRequest\n",
      "http://www.semanticweb.org/ontologies/2025/smart-technical-advisory-ontology/SAPBTPScenario\n",
      "http://www.semanticweb.org/ontologies/2025/smart-technical-advisory-ontology/SAPEmployee\n",
      "http://www.semanticweb.org/ontologies/2025/smart-technical-advisory-ontology/GTMOutcome\n",
      "http://www.semanticweb.org/ontologies/2025/smart-technical-advisory-ontology/SAPPartnerType\n",
      "http://www.semanticweb.org/ontologies/2025/smart-technical-advisory-ontology/SAPPartner\n",
      "http://www.semanticweb.org/ontologies/2025/smart-technical-advisory-ontology/RequiredSupport\n",
      "http://www.semanticweb.org/ontologies/2025/smart-technical-advisory-ontology/SourceOfRequest\n",
      "http://www.semanticweb.org/ontologies/2025/smart-technical-advisory-ontology/SAPServiceRequestInitiator\n",
      "http://www.semanticweb.org/ontologies/2025/smart-technical-advisory-ontology/SAPProgramInitiative\n",
      "http://www.semanticweb.org/ontologies/2025/smart-technical-advisory-ontology/SAPRegion\n",
      "http://www.semanticweb.org/ontologies/2025/smart-technical-advisory-ontology/BTPSolutionArchitect\n",
      "http://www.semanticweb.org/ontologies/2025/smart-technical-advisory-ontology/SAPPartnerContact\n",
      "http://www.semanticweb.org/ontologies/2025/smart-technical-advisory-ontology/NamedIndividual\n",
      "http://www.semanticweb.org/ontologies/2025/smart-technical-advisory-ontology/COILExpert\n",
      "_:b6442478528\n",
      "_:b6442478532\n",
      "_:b6442478534\n",
      "_:b6442478536\n",
      "_:b6442478538\n",
      "_:b6442478559\n",
      "_:b6442478565\n",
      "_:b6442478566\n",
      "http://www.semanticweb.org/ontologies/2025/smart-technical-advisory-ontology/UseCase\n",
      "http://www.semanticweb.org/ontologies/2025/smart-technical-advisory-ontology/Country\n",
      "http://www.semanticweb.org/ontologies/2025/smart-technical-advisory-ontology/SAPService\n",
      "http://www.semanticweb.org/ontologies/2025/smart-technical-advisory-ontology/GTMRoute\n",
      "http://www.semanticweb.org/ontologies/2025/smart-technical-advisory-ontology/SAPPartnerEmployee\n",
      "http://www.semanticweb.org/ontologies/2025/smart-technical-advisory-ontology/SAPPartnershipType\n",
      "http://www.semanticweb.org/ontologies/2025/smart-technical-advisory-ontology/Product\n",
      "http://www.semanticweb.org/ontologies/2025/smart-technical-advisory-ontology/SAPOrganization\n",
      "http://www.semanticweb.org/ontologies/2025/smart-technical-advisory-ontology/SAPServiceType\n",
      "http://www.semanticweb.org/ontologies/2025/smart-technical-advisory-ontology/SAPAIScenario\n",
      "http://www.semanticweb.org/ontologies/2025/smart-technical-advisory-ontology/Industry\n",
      "http://www.semanticweb.org/ontologies/2025/smart-technical-advisory-ontology/LoB\n",
      "https://www.omg.org/spec/LCC/Countries/CountryRepresentation/Country\n",
      "_:b2147511569\n",
      "_:b2147511570\n",
      "_:b2147511572\n",
      "_:b2147511575\n",
      "_:b2147511576\n",
      "_:b2147511587\n",
      "_:b2147511589\n",
      "_:b2147511592\n",
      "_:b2147511594\n",
      "_:b2147511597\n",
      "_:b2147511599\n",
      "_:b2147511600\n",
      "\n"
     ]
    }
   ],
   "source": [
    "# Obtain a list of classes in the ontology\n",
    "query = \"\"\"\n",
    "    prefix rdf: <http://www.w3.org/1999/02/22-rdf-syntax-ns#>\n",
    "    prefix rdfs: <http://www.w3.org/2000/01/rdf-schema#>\n",
    "    prefix : <http://www.semanticweb.org/ontologies/2025/smart-technical-advisory-ontology/> \n",
    "    prefix owl: <http://www.w3.org/2002/07/owl#> \n",
    "    \n",
    "    SELECT DISTINCT ?c\n",
    "    FROM <http://www.semanticweb.org/ontologies/2025/smart-technical-advisory-ontology-test>\n",
    "    WHERE {\n",
    "        ?c a owl:Class\n",
    "    }\n",
    "\"\"\"\n",
    "resp = conn.cursor().callproc('SPARQL_EXECUTE', (query, 'Accept: application/sparql-results+csv', '?', None) )\n",
    "print(resp[2]) "
   ]
  },
  {
   "cell_type": "code",
   "execution_count": 75,
   "id": "47ff72e2-386d-4822-86a2-35a9c2d3c94d",
   "metadata": {},
   "outputs": [
    {
     "name": "stdout",
     "output_type": "stream",
     "text": [
      "p\n",
      "http://www.semanticweb.org/ontologies/2025/smart-technical-advisory-ontology/requestedBy\n",
      "http://www.semanticweb.org/ontologies/2025/smart-technical-advisory-ontology/involves\n",
      "http://www.semanticweb.org/ontologies/2025/smart-technical-advisory-ontology/aiScenarioType\n",
      "http://www.semanticweb.org/ontologies/2025/smart-technical-advisory-ontology/belongsToIndustry\n",
      "http://www.semanticweb.org/ontologies/2025/smart-technical-advisory-ontology/consistsOf\n",
      "http://www.semanticweb.org/ontologies/2025/smart-technical-advisory-ontology/hasGTMOutcome\n",
      "http://www.semanticweb.org/ontologies/2025/smart-technical-advisory-ontology/hasPartnerType\n",
      "http://www.semanticweb.org/ontologies/2025/smart-technical-advisory-ontology/hasPartnershipType\n",
      "http://www.semanticweb.org/ontologies/2025/smart-technical-advisory-ontology/modifiedBy\n",
      "http://www.semanticweb.org/ontologies/2025/smart-technical-advisory-ontology/relatesToLoB\n",
      "http://www.semanticweb.org/ontologies/2025/smart-technical-advisory-ontology/responsiblePerson\n",
      "http://www.semanticweb.org/ontologies/2025/smart-technical-advisory-ontology/serviceType\n",
      "http://www.semanticweb.org/ontologies/2025/smart-technical-advisory-ontology/belongsToServiceRequest\n",
      "http://www.semanticweb.org/ontologies/2025/smart-technical-advisory-ontology/ofCountry\n",
      "http://www.semanticweb.org/ontologies/2025/smart-technical-advisory-ontology/coversProduct\n",
      "http://www.semanticweb.org/ontologies/2025/smart-technical-advisory-ontology/hasUseCase\n",
      "http://www.semanticweb.org/ontologies/2025/smart-technical-advisory-ontology/relatesToServiceRequest\n",
      "http://www.semanticweb.org/ontologies/2025/smart-technical-advisory-ontology/belongsToSAPRegion\n",
      "http://www.semanticweb.org/ontologies/2025/smart-technical-advisory-ontology/btpScenarioType\n",
      "http://www.semanticweb.org/ontologies/2025/smart-technical-advisory-ontology/createdBy\n",
      "http://www.semanticweb.org/ontologies/2025/smart-technical-advisory-ontology/deliveredBy\n",
      "http://www.semanticweb.org/ontologies/2025/smart-technical-advisory-ontology/executedBy\n",
      "http://www.semanticweb.org/ontologies/2025/smart-technical-advisory-ontology/hasGTMRoute\n",
      "http://www.semanticweb.org/ontologies/2025/smart-technical-advisory-ontology/hasPartnerContact\n",
      "http://www.semanticweb.org/ontologies/2025/smart-technical-advisory-ontology/hasSAPContact\n",
      "http://www.semanticweb.org/ontologies/2025/smart-technical-advisory-ontology/isEmployedBy\n",
      "http://www.semanticweb.org/ontologies/2025/smart-technical-advisory-ontology/requested\n",
      "http://www.semanticweb.org/ontologies/2025/smart-technical-advisory-ontology/requiredSupport\n",
      "http://www.semanticweb.org/ontologies/2025/smart-technical-advisory-ontology/sourceOfRequest\n",
      "http://www.semanticweb.org/ontologies/2025/smart-technical-advisory-ontology/belongsToSAPProgram\n",
      "http://www.semanticweb.org/ontologies/2025/smart-technical-advisory-ontology/wasInitiatedBy\n",
      "http://www.semanticweb.org/ontologies/2025/smart-technical-advisory-ontology/involvedIn\n",
      "\n"
     ]
    }
   ],
   "source": [
    "# Obtain a list of object properties in the ontology\n",
    "query = \"\"\"\n",
    "    prefix rdf: <http://www.w3.org/1999/02/22-rdf-syntax-ns#>\n",
    "    prefix rdfs: <http://www.w3.org/2000/01/rdf-schema#>\n",
    "    prefix : <http://www.semanticweb.org/ontologies/2025/smart-technical-advisory-ontology/> \n",
    "    prefix owl: <http://www.w3.org/2002/07/owl#> \n",
    "    \n",
    "    SELECT DISTINCT ?p\n",
    "    FROM <http://www.semanticweb.org/ontologies/2025/smart-technical-advisory-ontology-test>\n",
    "    WHERE {\n",
    "        ?p a owl:ObjectProperty\n",
    "    }\n",
    "\"\"\"\n",
    "resp = conn.cursor().callproc('SPARQL_EXECUTE', (query, 'Accept: application/sparql-results+csv', '?', None) )\n",
    "print(resp[2]) "
   ]
  },
  {
   "cell_type": "code",
   "execution_count": 76,
   "id": "88f0f90c-e232-49bb-86ef-56ad46876b62",
   "metadata": {},
   "outputs": [
    {
     "name": "stdout",
     "output_type": "stream",
     "text": [
      "p\n",
      "http://www.semanticweb.org/ontologies/2025/smart-technical-advisory-ontology/accountName\n",
      "http://www.semanticweb.org/ontologies/2025/smart-technical-advisory-ontology/countryCode\n",
      "http://www.semanticweb.org/ontologies/2025/smart-technical-advisory-ontology/createdOnDate\n",
      "http://www.semanticweb.org/ontologies/2025/smart-technical-advisory-ontology/hasCustomer\n",
      "http://www.semanticweb.org/ontologies/2025/smart-technical-advisory-ontology/hasID\n",
      "http://www.semanticweb.org/ontologies/2025/smart-technical-advisory-ontology/hasPBCOrderNumber\n",
      "http://www.semanticweb.org/ontologies/2025/smart-technical-advisory-ontology/hasStatus\n",
      "http://www.semanticweb.org/ontologies/2025/smart-technical-advisory-ontology/isAIUseCase\n",
      "http://www.semanticweb.org/ontologies/2025/smart-technical-advisory-ontology/solutionSubArea\n",
      "http://www.semanticweb.org/ontologies/2025/smart-technical-advisory-ontology/useCaseStatus\n",
      "http://www.semanticweb.org/ontologies/2025/smart-technical-advisory-ontology/hasName\n",
      "http://www.semanticweb.org/ontologies/2025/smart-technical-advisory-ontology/hasSolution\n",
      "http://www.semanticweb.org/ontologies/2025/smart-technical-advisory-ontology/isDeleted\n",
      "http://www.semanticweb.org/ontologies/2025/smart-technical-advisory-ontology/isGSSP\n",
      "http://www.semanticweb.org/ontologies/2025/smart-technical-advisory-ontology/modifiedOnDate\n",
      "http://www.semanticweb.org/ontologies/2025/smart-technical-advisory-ontology/requestDate\n",
      "http://www.semanticweb.org/ontologies/2025/smart-technical-advisory-ontology/solutionArea\n",
      "http://www.semanticweb.org/ontologies/2025/smart-technical-advisory-ontology/hasValue\n",
      "http://www.semanticweb.org/ontologies/2025/smart-technical-advisory-ontology/category\n",
      "http://www.semanticweb.org/ontologies/2025/smart-technical-advisory-ontology/completionDate\n",
      "http://www.semanticweb.org/ontologies/2025/smart-technical-advisory-ontology/hasDescription\n",
      "http://www.semanticweb.org/ontologies/2025/smart-technical-advisory-ontology/hasTitle\n",
      "http://www.semanticweb.org/ontologies/2025/smart-technical-advisory-ontology/isBTPUseCase\n",
      "http://www.semanticweb.org/ontologies/2025/smart-technical-advisory-ontology/isFreeService\n",
      "http://www.semanticweb.org/ontologies/2025/smart-technical-advisory-ontology/legalIPOwner\n",
      "http://www.semanticweb.org/ontologies/2025/smart-technical-advisory-ontology/partnerStatus\n",
      "http://www.semanticweb.org/ontologies/2025/smart-technical-advisory-ontology/plannedGoLiveDate\n",
      "http://www.semanticweb.org/ontologies/2025/smart-technical-advisory-ontology/productName\n",
      "http://www.semanticweb.org/ontologies/2025/smart-technical-advisory-ontology/productPublicName\n",
      "http://www.semanticweb.org/ontologies/2025/smart-technical-advisory-ontology/productType\n",
      "http://www.semanticweb.org/ontologies/2025/smart-technical-advisory-ontology/revenue\n",
      "http://www.semanticweb.org/ontologies/2025/smart-technical-advisory-ontology/startDate\n",
      "\n"
     ]
    }
   ],
   "source": [
    "# Obtain a list of datatype properties in the ontology\n",
    "query = \"\"\"\n",
    "    prefix rdf: <http://www.w3.org/1999/02/22-rdf-syntax-ns#>\n",
    "    prefix rdfs: <http://www.w3.org/2000/01/rdf-schema#>\n",
    "    prefix : <http://www.semanticweb.org/ontologies/2025/smart-technical-advisory-ontology/> \n",
    "    prefix owl: <http://www.w3.org/2002/07/owl#> \n",
    "    \n",
    "    SELECT DISTINCT ?p\n",
    "    FROM <http://www.semanticweb.org/ontologies/2025/smart-technical-advisory-ontology-test>\n",
    "    WHERE {\n",
    "        ?p a owl:DatatypeProperty\n",
    "    }\n",
    "\"\"\"\n",
    "resp = conn.cursor().callproc('SPARQL_EXECUTE', (query, 'Accept: application/sparql-results+csv', '?', None) )\n",
    "print(resp[2]) "
   ]
  },
  {
   "cell_type": "code",
   "execution_count": 105,
   "id": "af0d3894-ae3d-42c6-b964-e355d268cc8e",
   "metadata": {},
   "outputs": [
    {
     "name": "stdout",
     "output_type": "stream",
     "text": [
      "partnerRef,partnerName,regionName\n",
      "http://www.semanticweb.org/ontologies/2025/smart-technical-advisory-ontology/Partner2310370,Hogwarts Consulting,Middle & Eastern Europe\n",
      "\n"
     ]
    }
   ],
   "source": [
    "# Look for a certain partner in a certain region\n",
    "query = \"\"\"\n",
    "    prefix rdf: <http://www.w3.org/1999/02/22-rdf-syntax-ns#>\n",
    "    prefix rdfs: <http://www.w3.org/2000/01/rdf-schema#>\n",
    "    prefix : <http://www.semanticweb.org/ontologies/2025/smart-technical-advisory-ontology/> \n",
    "    prefix owl: <http://www.w3.org/2002/07/owl#> \n",
    "\n",
    "    SELECT ?partnerRef ?partnerName ?regionName\n",
    "    \tFROM <http://www.semanticweb.org/ontologies/2025/smart-technical-advisory-rdf-test>\n",
    "    \tWHERE {\n",
    "        \t?partnerRef a :SAPPartner ; \n",
    "                :accountName ?partnerName ;\n",
    "                :ofCountry ?countryRef ;\n",
    "                :partnerStatus 'Active' .\n",
    "            ?countryRef :belongsToSAPRegion ?regionRef .\n",
    "            ?regionRef :hasName ?regionName .\n",
    "            FILTER regex(?partnerName, \"Hogwarts\", \"i\") .\n",
    "            FILTER regex(?regionName, \"Middle & Eastern Europe\", \"i\") .\n",
    "    }\n",
    "    LIMIT 100\n",
    "\"\"\"\n",
    "resp = conn.cursor().callproc('SPARQL_EXECUTE', (query, 'Accept: application/sparql-results+csv', '?', None) )\n",
    "print(resp[2]) "
   ]
  },
  {
   "cell_type": "code",
   "execution_count": 117,
   "id": "d6391121-741c-48d3-a1cd-bf4d9d2869be",
   "metadata": {},
   "outputs": [
    {
     "name": "stdout",
     "output_type": "stream",
     "text": [
      "psrRef,serviceRef,serviceTypeName,productName,sapPersonName\n",
      "http://www.semanticweb.org/ontologies/2025/smart-technical-advisory-ontology/ServiceRequest85ef55b1-e74a-4be5-b7e3-835873ffcb06,http://www.semanticweb.org/ontologies/2025/smart-technical-advisory-ontology/Service39b8384b-8924-4338-9677-8082eef59ae8,SAP BTP Technical Advisory,Business One,John Legend\n",
      "\n"
     ]
    }
   ],
   "source": [
    "# Find all the service requests where the service was a TA and show who delivered the service\n",
    "query = \"\"\"\n",
    "    prefix rdf: <http://www.w3.org/1999/02/22-rdf-syntax-ns#>\n",
    "    prefix rdfs: <http://www.w3.org/2000/01/rdf-schema#>\n",
    "    prefix : <http://www.semanticweb.org/ontologies/2025/smart-technical-advisory-ontology/> \n",
    "    prefix owl: <http://www.w3.org/2002/07/owl#>\n",
    "    prefix foaf:  <http://xmlns.com/foaf/0.1/>\n",
    "\n",
    "    SELECT ?psrRef ?serviceRef ?serviceTypeName ?productName ?sapPersonName\n",
    "    \tFROM <http://www.semanticweb.org/ontologies/2025/smart-technical-advisory-rdf-test>\n",
    "    \tWHERE {\n",
    "            ?serviceRef a :SAPService ;   \n",
    "                :relatesToServiceRequest ?psrRef ;\n",
    "                :serviceType ?serviceTypeRef ;\n",
    "                :deliveredBy ?sapPersonRef .\n",
    "            ?sapPersonRef foaf:name ?sapPersonName .\n",
    "            ?serviceTypeRef :hasName ?serviceTypeName .\n",
    "            ?psrRef :coversProduct ?productRef .\n",
    "            ?productRef :productName ?productName .\n",
    "    }\n",
    "    LIMIT 10\n",
    "\"\"\"\n",
    "resp = conn.cursor().callproc('SPARQL_EXECUTE', (query, 'Accept: application/sparql-results+csv', '?', None) )\n",
    "print(resp[2]) "
   ]
  },
  {
   "cell_type": "code",
   "execution_count": 104,
   "id": "e739fe7f-261f-49bc-8931-b4af22348ceb",
   "metadata": {},
   "outputs": [
    {
     "name": "stdout",
     "output_type": "stream",
     "text": [
      "true\n"
     ]
    }
   ],
   "source": [
    "#ASK Returns a boolean indicating whether a query pattern matches or not.\n",
    "query = \"\"\"\n",
    "    prefix rdf: <http://www.w3.org/1999/02/22-rdf-syntax-ns#>\n",
    "    prefix rdfs: <http://www.w3.org/2000/01/rdf-schema#>\n",
    "    prefix : <http://www.semanticweb.org/ontologies/2025/smart-technical-advisory-ontology/> \n",
    "    prefix owl: <http://www.w3.org/2002/07/owl#>\n",
    "    prefix foaf:  <http://xmlns.com/foaf/0.1/>\n",
    "    \n",
    "    ASK\n",
    "    FROM <http://www.semanticweb.org/ontologies/2025/smart-technical-advisory-rdf-test>\n",
    "    WHERE {\n",
    "    \t?sapPersonRef a :SAPEmployee ;\n",
    "            foaf:member :SAPOrg1 .\n",
    "    }\n",
    "\"\"\"\n",
    "resp = conn.cursor().callproc('SPARQL_EXECUTE', (query, 'Accept: application/sparql-results+csv', '?', None) )\n",
    "print(resp[2]) "
   ]
  },
  {
   "cell_type": "code",
   "execution_count": 112,
   "id": "08cddbee-cb75-4d68-af8f-8593a390cca0",
   "metadata": {},
   "outputs": [
    {
     "name": "stdout",
     "output_type": "stream",
     "text": [
      "sapPersonRef\n",
      "http://www.semanticweb.org/ontologies/2025/smart-technical-advisory-ontology/john.legend@sap.com\n",
      "\n"
     ]
    }
   ],
   "source": [
    "# SAP employes that are also BTP SA\n",
    "query = \"\"\"\n",
    "    prefix rdf: <http://www.w3.org/1999/02/22-rdf-syntax-ns#>\n",
    "    prefix rdfs: <http://www.w3.org/2000/01/rdf-schema#>\n",
    "    prefix : <http://www.semanticweb.org/ontologies/2025/smart-technical-advisory-ontology/> \n",
    "    prefix owl: <http://www.w3.org/2002/07/owl#>\n",
    "    prefix foaf:  <http://xmlns.com/foaf/0.1/>\n",
    "    \n",
    "    SELECT *\n",
    "    FROM <http://www.semanticweb.org/ontologies/2025/smart-technical-advisory-rdf-test>\n",
    "    WHERE {\n",
    "    \t?sapPersonRef a :SAPEmployee ;\n",
    "            foaf:member :SAPOrg1 .\n",
    "    }\n",
    "\"\"\"\n",
    "resp = conn.cursor().callproc('SPARQL_EXECUTE', (query, 'Accept: application/sparql-results+csv', '?', None) )\n",
    "print(resp[2]) "
   ]
  },
  {
   "cell_type": "code",
   "execution_count": 122,
   "id": "ee10f64a-40c8-41b4-90a4-19cb8102e6cb",
   "metadata": {},
   "outputs": [
    {
     "name": "stdout",
     "output_type": "stream",
     "text": [
      "sapPersonName,psrCount,serviceCount,btpCount,aiCount\n",
      "John Legend,1,1,1,0\n",
      "\n"
     ]
    }
   ],
   "source": [
    "# Find how many TAs have been delivered by each BTP SA\n",
    "query = \"\"\"\n",
    "    prefix rdf: <http://www.w3.org/1999/02/22-rdf-syntax-ns#>\n",
    "    prefix rdfs: <http://www.w3.org/2000/01/rdf-schema#>\n",
    "    prefix : <http://www.semanticweb.org/ontologies/2025/smart-technical-advisory-ontology/> \n",
    "    prefix owl: <http://www.w3.org/2002/07/owl#>\n",
    "    prefix foaf:  <http://xmlns.com/foaf/0.1/>\n",
    "\n",
    "    SELECT \n",
    "            ?sapPersonName \n",
    "            (COUNT(?psrRef) AS ?psrCount) (COUNT(?serviceRef) AS ?serviceCount)\n",
    "            (COUNT(?btpRef) AS ?btpCount) (COUNT(?aiRef) AS ?aiCount)\n",
    "    \tFROM <http://www.semanticweb.org/ontologies/2025/smart-technical-advisory-rdf-test>\n",
    "    \tWHERE {\n",
    "            ?serviceRef a :SAPService ;\n",
    "                :serviceType ?serviceTypeRef ;\n",
    "                :relatesToServiceRequest ?psrRef ;\n",
    "                :deliveredBy ?sapPersonRef .\n",
    "            ?sapPersonRef foaf:name ?sapPersonName ;\n",
    "                foaf:member :SAPOrg1 .\n",
    "            ?psrRef :hasUseCase ?useCaseRef .\n",
    "            OPTIONAL \n",
    "                {?useCaseRef :btpScenarioType ?btpRef .}\n",
    "            OPTIONAL \n",
    "                {?useCaseRef :aiScenarioType ?aiRef .}\n",
    "            ?serviceTypeRef :hasName ?serviceTypeName .            \n",
    "            FILTER regex(?serviceTypeName, \"SAP BTP Technical Advisory\", \"i\") .\n",
    "    } GROUP BY ?sapPersonName\n",
    "    ORDER BY ?sapPersonName\n",
    "\"\"\"\n",
    "resp = conn.cursor().callproc('SPARQL_EXECUTE', (query, 'Accept: application/sparql-results+csv', '?', None) )\n",
    "print(resp[2]) "
   ]
  },
  {
   "cell_type": "markdown",
   "id": "deb3ee5b-ddb6-4bed-884f-7da0a701def3",
   "metadata": {},
   "source": [
    "## Other queries"
   ]
  },
  {
   "cell_type": "code",
   "execution_count": 134,
   "id": "0b275900-38c9-49b2-a6a4-3b14dc1e9079",
   "metadata": {},
   "outputs": [
    {
     "name": "stdout",
     "output_type": "stream",
     "text": [
      "@prefix xsd: <http://www.w3.org/2001/XMLSchema#>.\n",
      "<http://www.semanticweb.org/ontologies/2025/smart-technical-advisory-ontology/hasUseCase> <http://www.w3.org/1999/02/22-rdf-syntax-ns#type> <http://www.w3.org/2002/07/owl#FunctionalProperty> .\n",
      "<http://www.semanticweb.org/ontologies/2025/smart-technical-advisory-ontology/relatesToServiceRequest> <http://www.w3.org/1999/02/22-rdf-syntax-ns#type> <http://www.w3.org/2002/07/owl#FunctionalProperty> .\n",
      "<http://www.semanticweb.org/ontologies/2025/smart-technical-advisory-ontology/SAPServiceRequest> <http://www.w3.org/1999/02/22-rdf-syntax-ns#type> <http://www.w3.org/2002/07/owl#Class> .\n",
      "<http://www.semanticweb.org/ontologies/2025/smart-technical-advisory-ontology/hasUseCase> <http://www.w3.org/1999/02/22-rdf-syntax-ns#type> <http://www.w3.org/2002/07/owl#ObjectProperty> .\n",
      "<http://www.semanticweb.org/ontologies/2025/smart-technical-advisory-ontology/SAPBTPScenario> <http://www.w3.org/1999/02/22-rdf-syntax-ns#type> <http://www.w3.org/2002/07/owl#Class> .\n",
      "<http://www.semanticweb.org/ontologies/2025/smart-technical-advisory-ontology/relatesToServiceRequest> <http://www.w3.org/1999/02/22-rdf-syntax-ns#type> <http://www.w3.org/2002/07/owl#ObjectProperty> .\n",
      "<http://www.semanticweb.org/ontologies/2025/smart-technical-advisory-ontology/SAPEmployee> <http://www.w3.org/1999/02/22-rdf-syntax-ns#type> <http://www.w3.org/2002/07/owl#Class> .\n",
      "<http://www.semanticweb.org/ontologies/2025/smart-technical-advisory-ontology/GTMOutcome> <http://www.w3.org/1999/02/22-rdf-syntax-ns#type> <http://www.w3.org/2002/07/owl#Class> .\n",
      "<http://www.semanticweb.org/ontologies/2025/smart-technical-advisory-ontology/SAPPartnerType> <http://www.w3.org/1999/02/22-rdf-syntax-ns#type> <http://www.w3.org/2002/07/owl#Class> .\n",
      "<http://www.semanticweb.org/ontologies/2025/smart-technical-advisory-ontology/SAPPartner> <http://www.w3.org/1999/02/22-rdf-syntax-ns#type> <http://www.w3.org/2002/07/owl#Class> .\n",
      "\n"
     ]
    }
   ],
   "source": [
    "# Get the onthology schema \n",
    "query = \"\"\"\n",
    "    CONSTRUCT {?s ?p ?o} FROM <http://www.semanticweb.org/ontologies/2025/smart-technical-advisory-ontology-test> \n",
    "    WHERE {?s ?p ?o}\n",
    "    LIMIT 10\n",
    "\"\"\"\n",
    "resp = conn.cursor().callproc('SPARQL_EXECUTE', (query, 'Accept: application/sparql-results+csv', '?', None) )\n",
    "print(resp[2])"
   ]
  },
  {
   "cell_type": "code",
   "execution_count": 135,
   "id": "b0a6ecb9-7d3e-4acf-9d7f-f9bf427ebdf9",
   "metadata": {},
   "outputs": [
    {
     "name": "stdout",
     "output_type": "stream",
     "text": [
      "op,com\n",
      "http://www.semanticweb.org/ontologies/2025/smart-technical-advisory-ontology/hasPBCOrderNumber,It indicates the unique  PBC order number of the service (if the service was requested through the Parter Benefits Catalog).\n",
      "http://www.semanticweb.org/ontologies/2025/smart-technical-advisory-ontology/hasName,This property indicates the proper name of an object.\n",
      "http://www.semanticweb.org/ontologies/2025/smart-technical-advisory-ontology/requestDate,It is a property of the service request class. It indicates the date the service request was submitted.\n",
      "http://www.semanticweb.org/ontologies/2025/smart-technical-advisory-ontology/involves,It indicates the service request or service involves a certain person.\n",
      "http://www.semanticweb.org/ontologies/2025/smart-technical-advisory-ontology/accountName,It specifies the account name of the SAP partner.\n",
      "http://www.semanticweb.org/ontologies/2025/smart-technical-advisory-ontology/hasCustomer,It marks whether the use case has already a customer or not.\n",
      "http://www.semanticweb.org/ontologies/2025/smart-technical-advisory-ontology/isAIUseCase,It marks whether the use case is around AI or not.\n",
      "http://www.semanticweb.org/ontologies/2025/smart-technical-advisory-ontology/hasSolution,Flag indicating whether the service request produced a solution.\n",
      "http://www.semanticweb.org/ontologies/2025/smart-technical-advisory-ontology/isGSSP,It marks whether an SAP partner is GSSP (global strategic service partner) or not.\n",
      "http://www.semanticweb.org/ontologies/2025/smart-technical-advisory-ontology/modifiedOnDate,It indicates the date the object was modified (datetime) in the system.\n",
      "\n"
     ]
    }
   ],
   "source": [
    "#Get properties and their comments\n",
    "query = \"\"\"\n",
    "    prefix rdf: <http://www.w3.org/1999/02/22-rdf-syntax-ns#>\n",
    "    prefix rdfs: <http://www.w3.org/2000/01/rdf-schema#>\n",
    "    prefix : <http://www.semanticweb.org/ontologies/2025/smart-technical-advisory-ontology/> \n",
    "    prefix owl: <http://www.w3.org/2002/07/owl#>\n",
    "    prefix foaf:  <http://xmlns.com/foaf/0.1/>\n",
    "    \n",
    "    SELECT DISTINCT ?op ?com \n",
    "    FROM <http://www.semanticweb.org/ontologies/2025/smart-technical-advisory-ontology-test> \n",
    "    WHERE { \n",
    "        {?op rdf:type owl:ObjectProperty .}\n",
    "        UNION\n",
    "        {?op rdf:type owl:DatatypeProperty .}\n",
    "        ?op rdfs:comment ?com .\n",
    "    }\n",
    "    LIMIT 10\n",
    "\"\"\"\n",
    "\n",
    "resp = conn.cursor().callproc('SPARQL_EXECUTE', (query, 'Accept: application/sparql-results+csv', '?', None) )\n",
    "print(resp[2])"
   ]
  },
  {
   "cell_type": "code",
   "execution_count": 136,
   "id": "e4c1d036-e8e0-4425-9d5a-0230e9909d4e",
   "metadata": {},
   "outputs": [
    {
     "name": "stdout",
     "output_type": "stream",
     "text": [
      "cls,com\n",
      "http://www.semanticweb.org/ontologies/2025/smart-technical-advisory-ontology/SAPBTPScenario,\"Possible scenario when implementing a solution on SAP BTP. It can be one of the following:\n",
      "'Data-to-Value'\n",
      "'Extensibility'\n",
      "'Integration'\"\n",
      "http://www.semanticweb.org/ontologies/2025/smart-technical-advisory-ontology/GTMOutcome,Outcome of the Go-to-Market process if there is one related to the service request submitted.\n",
      "http://www.semanticweb.org/ontologies/2025/smart-technical-advisory-ontology/RequiredSupport,Type of support required for the service.\n",
      "http://www.semanticweb.org/ontologies/2025/smart-technical-advisory-ontology/SourceOfRequest,\"Channels through which the request can arrive. It can be:\n",
      "'PCD E-Mail'\n",
      "'PBC request'\n",
      "'Internal'\n",
      "'Others'\"\n",
      "http://www.semanticweb.org/ontologies/2025/smart-technical-advisory-ontology/SAPServiceRequestInitiator,\"Who initiated the service request. It can be:\n",
      "'SAP'\n",
      "'Customer'\n",
      "'Partner'\"\n",
      "http://www.semanticweb.org/ontologies/2025/smart-technical-advisory-ontology/SAPServiceRequest,Formal coaching request sent by an SAP partner to SAP. A single request may be used to request multiple services.\n",
      "http://www.semanticweb.org/ontologies/2025/smart-technical-advisory-ontology/SAPEmployee,Person who is employed by SAP and that is involved in the coaching services.\n",
      "http://www.semanticweb.org/ontologies/2025/smart-technical-advisory-ontology/SAPPartnerType,Type of SAP partner.\n",
      "http://www.semanticweb.org/ontologies/2025/smart-technical-advisory-ontology/SAPPartner,Company that is in a certain business relationship with SAP\n",
      "http://www.semanticweb.org/ontologies/2025/smart-technical-advisory-ontology/SAPProgramInitiative,SAP program initiative to which the request is associated.\n",
      "\n"
     ]
    }
   ],
   "source": [
    "#Get classes and their comments\n",
    "query = \"\"\"\n",
    "    prefix rdf: <http://www.w3.org/1999/02/22-rdf-syntax-ns#>\n",
    "    prefix rdfs: <http://www.w3.org/2000/01/rdf-schema#>\n",
    "    prefix : <http://www.semanticweb.org/ontologies/2025/smart-technical-advisory-ontology/> \n",
    "    prefix owl: <http://www.w3.org/2002/07/owl#>\n",
    "    prefix foaf:  <http://xmlns.com/foaf/0.1/>\n",
    "\n",
    "    SELECT DISTINCT ?cls ?com\n",
    "    FROM <http://www.semanticweb.org/ontologies/2025/smart-technical-advisory-ontology-test> \n",
    "    WHERE { \n",
    "        ?cls rdf:type owl:Class . \n",
    "        FILTER (isIRI(?cls)) . \n",
    "        OPTIONAL { ?cls rdfs:comment ?com } \n",
    "    }\n",
    "    LIMIT 10\n",
    "\"\"\"\n",
    "\n",
    "resp = conn.cursor().callproc('SPARQL_EXECUTE', (query, 'Accept: application/sparql-results+csv', '?', None) )\n",
    "print(resp[2])"
   ]
  },
  {
   "cell_type": "code",
   "execution_count": null,
   "id": "c4b143c5-e7a8-4f10-b2ec-04a17ccd8a3e",
   "metadata": {},
   "outputs": [],
   "source": []
  }
 ],
 "metadata": {
  "kernelspec": {
   "display_name": "Python 3 (ipykernel)",
   "language": "python",
   "name": "python3"
  },
  "language_info": {
   "codemirror_mode": {
    "name": "ipython",
    "version": 3
   },
   "file_extension": ".py",
   "mimetype": "text/x-python",
   "name": "python",
   "nbconvert_exporter": "python",
   "pygments_lexer": "ipython3",
   "version": "3.10.4"
  }
 },
 "nbformat": 4,
 "nbformat_minor": 5
}
